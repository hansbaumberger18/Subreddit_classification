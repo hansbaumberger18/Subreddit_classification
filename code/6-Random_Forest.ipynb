{
 "cells": [
  {
   "cell_type": "markdown",
   "id": "65a0ebf3-8269-475d-b86e-020848b9d282",
   "metadata": {},
   "source": [
    "# Random Forest model"
   ]
  },
  {
   "cell_type": "markdown",
   "id": "5ce06ff4-e6e5-4912-8e44-2635addc5099",
   "metadata": {},
   "source": [
    "#### In this notebook, a Random Forest model will be developed. The text data will be converted into a structured numeric dataframe using TF-IDF Vectorizer."
   ]
  },
  {
   "cell_type": "markdown",
   "id": "863a2a41-a7a9-4667-9557-488bb02def54",
   "metadata": {},
   "source": [
    "Importing libraries:"
   ]
  },
  {
   "cell_type": "code",
   "execution_count": 7,
   "id": "b3deed27-07f5-4d67-8556-5b21959f5ba9",
   "metadata": {
    "tags": []
   },
   "outputs": [],
   "source": [
    "import pandas as pd\n",
    "import numpy as np\n",
    "import matplotlib.pyplot as plt\n",
    "\n",
    "from sklearn.ensemble import RandomForestClassifier, ExtraTreesClassifier\n",
    "from sklearn.model_selection import cross_val_score, train_test_split, GridSearchCV\n",
    "from sklearn.feature_extraction.text import TfidfVectorizer, CountVectorizer\n",
    "from sklearn.model_selection import KFold\n",
    "from sklearn.metrics import confusion_matrix, plot_confusion_matrix, plot_roc_curve, roc_auc_score"
   ]
  },
  {
   "cell_type": "markdown",
   "id": "4b4120ae-fe2f-46a3-84f2-c6852bd1c7e0",
   "metadata": {},
   "source": [
    "Loading and merging data:"
   ]
  },
  {
   "cell_type": "code",
   "execution_count": 8,
   "id": "d3c45b4a-20c5-46ba-af23-221ca4babf50",
   "metadata": {},
   "outputs": [
    {
     "data": {
      "text/html": [
       "<div>\n",
       "<style scoped>\n",
       "    .dataframe tbody tr th:only-of-type {\n",
       "        vertical-align: middle;\n",
       "    }\n",
       "\n",
       "    .dataframe tbody tr th {\n",
       "        vertical-align: top;\n",
       "    }\n",
       "\n",
       "    .dataframe thead th {\n",
       "        text-align: right;\n",
       "    }\n",
       "</style>\n",
       "<table border=\"1\" class=\"dataframe\">\n",
       "  <thead>\n",
       "    <tr style=\"text-align: right;\">\n",
       "      <th></th>\n",
       "      <th>subreddit</th>\n",
       "      <th>title</th>\n",
       "    </tr>\n",
       "  </thead>\n",
       "  <tbody>\n",
       "    <tr>\n",
       "      <th>0</th>\n",
       "      <td>CryptoMarkets</td>\n",
       "      <td>Polychain and Celo Validator Community Bootstr...</td>\n",
       "    </tr>\n",
       "    <tr>\n",
       "      <th>1</th>\n",
       "      <td>CryptoMarkets</td>\n",
       "      <td>What's the Economics Of Public Goods ? :O</td>\n",
       "    </tr>\n",
       "    <tr>\n",
       "      <th>2</th>\n",
       "      <td>CryptoMarkets</td>\n",
       "      <td>Invesco pulls Bitcoin ETF application and othe...</td>\n",
       "    </tr>\n",
       "    <tr>\n",
       "      <th>3</th>\n",
       "      <td>CryptoMarkets</td>\n",
       "      <td>New York State Watchdog Orders Two Crypto Firm...</td>\n",
       "    </tr>\n",
       "    <tr>\n",
       "      <th>4</th>\n",
       "      <td>CryptoMarkets</td>\n",
       "      <td>New milestone: ProShares Bitcoin ETF goes publ...</td>\n",
       "    </tr>\n",
       "  </tbody>\n",
       "</table>\n",
       "</div>"
      ],
      "text/plain": [
       "       subreddit                                              title\n",
       "0  CryptoMarkets  Polychain and Celo Validator Community Bootstr...\n",
       "1  CryptoMarkets          What's the Economics Of Public Goods ? :O\n",
       "2  CryptoMarkets  Invesco pulls Bitcoin ETF application and othe...\n",
       "3  CryptoMarkets  New York State Watchdog Orders Two Crypto Firm...\n",
       "4  CryptoMarkets  New milestone: ProShares Bitcoin ETF goes publ..."
      ]
     },
     "execution_count": 8,
     "metadata": {},
     "output_type": "execute_result"
    }
   ],
   "source": [
    "crypto = pd.read_csv('../data/sub-crypto.csv')\n",
    "eco = pd.read_csv('../data/sub-economics.csv')\n",
    "\n",
    "data = crypto.append(eco)\n",
    "data.head()"
   ]
  },
  {
   "cell_type": "code",
   "execution_count": 9,
   "id": "0d42bd4a-d3ea-46e9-8d1d-bc5d7ed8bd03",
   "metadata": {},
   "outputs": [
    {
     "data": {
      "text/plain": [
       "(20000, 2)"
      ]
     },
     "execution_count": 9,
     "metadata": {},
     "output_type": "execute_result"
    }
   ],
   "source": [
    "data.shape"
   ]
  },
  {
   "cell_type": "markdown",
   "id": "79edb077-857b-4c25-9920-9ecdbe401ddc",
   "metadata": {},
   "source": [
    "One hot encoding 'subreddit' column:"
   ]
  },
  {
   "cell_type": "code",
   "execution_count": 10,
   "id": "231eb865-804b-4c07-a943-e3d1b19fd1dc",
   "metadata": {
    "tags": []
   },
   "outputs": [
    {
     "data": {
      "text/html": [
       "<div>\n",
       "<style scoped>\n",
       "    .dataframe tbody tr th:only-of-type {\n",
       "        vertical-align: middle;\n",
       "    }\n",
       "\n",
       "    .dataframe tbody tr th {\n",
       "        vertical-align: top;\n",
       "    }\n",
       "\n",
       "    .dataframe thead th {\n",
       "        text-align: right;\n",
       "    }\n",
       "</style>\n",
       "<table border=\"1\" class=\"dataframe\">\n",
       "  <thead>\n",
       "    <tr style=\"text-align: right;\">\n",
       "      <th></th>\n",
       "      <th>subreddit</th>\n",
       "      <th>title</th>\n",
       "    </tr>\n",
       "  </thead>\n",
       "  <tbody>\n",
       "    <tr>\n",
       "      <th>0</th>\n",
       "      <td>0</td>\n",
       "      <td>Polychain and Celo Validator Community Bootstr...</td>\n",
       "    </tr>\n",
       "    <tr>\n",
       "      <th>1</th>\n",
       "      <td>0</td>\n",
       "      <td>What's the Economics Of Public Goods ? :O</td>\n",
       "    </tr>\n",
       "    <tr>\n",
       "      <th>2</th>\n",
       "      <td>0</td>\n",
       "      <td>Invesco pulls Bitcoin ETF application and othe...</td>\n",
       "    </tr>\n",
       "    <tr>\n",
       "      <th>3</th>\n",
       "      <td>0</td>\n",
       "      <td>New York State Watchdog Orders Two Crypto Firm...</td>\n",
       "    </tr>\n",
       "    <tr>\n",
       "      <th>4</th>\n",
       "      <td>0</td>\n",
       "      <td>New milestone: ProShares Bitcoin ETF goes publ...</td>\n",
       "    </tr>\n",
       "  </tbody>\n",
       "</table>\n",
       "</div>"
      ],
      "text/plain": [
       "   subreddit                                              title\n",
       "0          0  Polychain and Celo Validator Community Bootstr...\n",
       "1          0          What's the Economics Of Public Goods ? :O\n",
       "2          0  Invesco pulls Bitcoin ETF application and othe...\n",
       "3          0  New York State Watchdog Orders Two Crypto Firm...\n",
       "4          0  New milestone: ProShares Bitcoin ETF goes publ..."
      ]
     },
     "execution_count": 10,
     "metadata": {},
     "output_type": "execute_result"
    }
   ],
   "source": [
    "#one-hot encoding 'subreddit' column\n",
    "data['subreddit'].replace({'CryptoMarkets': 0, 'Economics': 1}, inplace = True)\n",
    "data.head()"
   ]
  },
  {
   "cell_type": "markdown",
   "id": "611368e4-0dc8-466a-9b42-690575f1ad67",
   "metadata": {},
   "source": [
    "Shuffling data:"
   ]
  },
  {
   "cell_type": "code",
   "execution_count": 11,
   "id": "d78b6080-9f55-4b24-8b0c-a4820f3360c8",
   "metadata": {},
   "outputs": [
    {
     "data": {
      "text/html": [
       "<div>\n",
       "<style scoped>\n",
       "    .dataframe tbody tr th:only-of-type {\n",
       "        vertical-align: middle;\n",
       "    }\n",
       "\n",
       "    .dataframe tbody tr th {\n",
       "        vertical-align: top;\n",
       "    }\n",
       "\n",
       "    .dataframe thead th {\n",
       "        text-align: right;\n",
       "    }\n",
       "</style>\n",
       "<table border=\"1\" class=\"dataframe\">\n",
       "  <thead>\n",
       "    <tr style=\"text-align: right;\">\n",
       "      <th></th>\n",
       "      <th>subreddit</th>\n",
       "      <th>title</th>\n",
       "    </tr>\n",
       "  </thead>\n",
       "  <tbody>\n",
       "    <tr>\n",
       "      <th>6533</th>\n",
       "      <td>0</td>\n",
       "      <td>🐒🔥goldenmonkeycoin.com🍌🙊 $GMONKEY🐵Presale comi...</td>\n",
       "    </tr>\n",
       "    <tr>\n",
       "      <th>2127</th>\n",
       "      <td>0</td>\n",
       "      <td>State of the MOONion: r/CryptoCurrency Subredd...</td>\n",
       "    </tr>\n",
       "    <tr>\n",
       "      <th>9242</th>\n",
       "      <td>1</td>\n",
       "      <td>Impacts of household income on beef at-home co...</td>\n",
       "    </tr>\n",
       "    <tr>\n",
       "      <th>5941</th>\n",
       "      <td>1</td>\n",
       "      <td>Taliban won't be allowed access to Afghan cent...</td>\n",
       "    </tr>\n",
       "    <tr>\n",
       "      <th>2973</th>\n",
       "      <td>1</td>\n",
       "      <td>Fathers Dream To Raise Kids And Work From Home...</td>\n",
       "    </tr>\n",
       "  </tbody>\n",
       "</table>\n",
       "</div>"
      ],
      "text/plain": [
       "      subreddit                                              title\n",
       "6533          0  🐒🔥goldenmonkeycoin.com🍌🙊 $GMONKEY🐵Presale comi...\n",
       "2127          0  State of the MOONion: r/CryptoCurrency Subredd...\n",
       "9242          1  Impacts of household income on beef at-home co...\n",
       "5941          1  Taliban won't be allowed access to Afghan cent...\n",
       "2973          1  Fathers Dream To Raise Kids And Work From Home..."
      ]
     },
     "execution_count": 11,
     "metadata": {},
     "output_type": "execute_result"
    }
   ],
   "source": [
    "# code from: https://stackoverflow.com/questions/29576430/shuffle-dataframe-rows\n",
    "data = data.sample(frac = 1)\n",
    "\n",
    "data.head()"
   ]
  },
  {
   "cell_type": "markdown",
   "id": "4b50e2c8-d9e0-4af9-b944-858af4666c36",
   "metadata": {},
   "source": [
    "## Modeling using  CountVecotizer:"
   ]
  },
  {
   "cell_type": "code",
   "execution_count": 12,
   "id": "311d291e-49a3-4788-9fa0-0838e4b99a90",
   "metadata": {},
   "outputs": [],
   "source": [
    "# Defining matrixes\n",
    "X = data['title']\n",
    "y = data['subreddit']\n",
    "\n",
    "# Train/Test splitting\n",
    "X_train, X_val, y_train, y_val = train_test_split(X, y, random_state=42, stratify=y)\n",
    "\n",
    "# Vectorize and plot but using 'english' stopwords, unigrams and bigrams\n",
    "cvec = CountVectorizer(stop_words='english', ngram_range=(1,2))\n",
    "\n",
    "X_train = cvec.fit_transform(X_train)\n",
    "X_val = cvec.transform(X_val)"
   ]
  },
  {
   "cell_type": "markdown",
   "id": "066b47e3-ec44-4f96-9286-58eb5a9b712d",
   "metadata": {},
   "source": [
    "Instantiating RandomForestClassifier and Gridsearch:"
   ]
  },
  {
   "cell_type": "code",
   "execution_count": 13,
   "id": "a437fc4f-608c-4360-9d23-62e1b3d4d245",
   "metadata": {},
   "outputs": [
    {
     "name": "stdout",
     "output_type": "stream",
     "text": [
      "Fitting 5 folds for each of 18 candidates, totalling 90 fits\n"
     ]
    }
   ],
   "source": [
    "# Instantiate RF.\n",
    "kf = KFold(5, shuffle=True, random_state=42)\n",
    "\n",
    "rf_params = {\n",
    "    'n_estimators': [100, 150, 200],\n",
    "    'max_depth': [None, 1, 2, 3, 4, 5],\n",
    "}\n",
    "\n",
    "model_1 = RandomForestClassifier()\n",
    "\n",
    "gs = GridSearchCV(model_1, rf_params, cv=kf, n_jobs=-1, verbose=1)\n",
    "\n",
    "# # Fit on training data.\n",
    "gs.fit(X_train, y_train);"
   ]
  },
  {
   "cell_type": "markdown",
   "id": "1bcbd75d-5724-4e27-915d-42745ef02014",
   "metadata": {},
   "source": [
    "Measuring performance:"
   ]
  },
  {
   "cell_type": "code",
   "execution_count": 15,
   "id": "1c94022e-fab2-4612-837d-276f6c5f26eb",
   "metadata": {},
   "outputs": [
    {
     "data": {
      "text/plain": [
       "0.8808"
      ]
     },
     "execution_count": 15,
     "metadata": {},
     "output_type": "execute_result"
    }
   ],
   "source": [
    "gs.best_score_"
   ]
  },
  {
   "cell_type": "code",
   "execution_count": 16,
   "id": "6ec55985-911e-4e0d-a34c-31afca4ea62f",
   "metadata": {},
   "outputs": [
    {
     "data": {
      "text/plain": [
       "0.9969333333333333"
      ]
     },
     "execution_count": 16,
     "metadata": {},
     "output_type": "execute_result"
    }
   ],
   "source": [
    "gs.score(X_train, y_train)"
   ]
  },
  {
   "cell_type": "code",
   "execution_count": 17,
   "id": "270789ea-c423-4492-b1f5-9f02e0625b9d",
   "metadata": {},
   "outputs": [
    {
     "data": {
      "text/plain": [
       "0.895"
      ]
     },
     "execution_count": 17,
     "metadata": {},
     "output_type": "execute_result"
    }
   ],
   "source": [
    "gs.score(X_val, y_val)"
   ]
  },
  {
   "cell_type": "markdown",
   "id": "3c8f22bb-5a47-4ae3-ad7d-72d002e53576",
   "metadata": {},
   "source": [
    "Confusion Matrix:"
   ]
  },
  {
   "cell_type": "code",
   "execution_count": 18,
   "id": "c91e61dd-7488-4481-84dd-6720fd0916bd",
   "metadata": {},
   "outputs": [
    {
     "name": "stdout",
     "output_type": "stream",
     "text": [
      "Specificity: 0.954\n",
      "Precision: 0.9478458049886621\n"
     ]
    }
   ],
   "source": [
    "# Get predictions\n",
    "preds_cvec = gs.predict(X_val)\n",
    "\n",
    "# Save confusion matrix values\n",
    "tn, fp, fn, tp = confusion_matrix(y_val, preds_cvec).ravel()\n",
    "\n",
    "# Calculate the specificity and precision\n",
    "\n",
    "spec = tn / (tn + fp)\n",
    "prec = tp / (tp + fp)\n",
    "\n",
    "print('Specificity:', spec)\n",
    "print('Precision:', prec)"
   ]
  },
  {
   "cell_type": "code",
   "execution_count": 19,
   "id": "87964cff-cd0a-4dc2-847a-47c51a962f1c",
   "metadata": {},
   "outputs": [
    {
     "data": {
      "image/png": "[encoded data removed]",
      "text/plain": [
       "<Figure size 432x288 with 2 Axes>"
      ]
     },
     "metadata": {
      "needs_background": "light"
     },
     "output_type": "display_data"
    }
   ],
   "source": [
    "# visualize this\n",
    "plot_confusion_matrix(gs, X_val, y_val, cmap='Blues', values_format='d');"
   ]
  },
  {
   "cell_type": "markdown",
   "id": "9e8d6097-3e2c-4502-a353-52184209f7d7",
   "metadata": {},
   "source": [
    "## Receiver Operating Characteristic (ROC) Curve\n",
    "\n",
    "This curve helps us visualize our tradeoff between _sensitivity_ and _specificity_ and understand how well-separated our populations are.\n",
    "\n",
    "### Interpreting ROC AUC\n",
    "- If you have an ROC AUC of 0.5, your positive and negative populations perfectly overlap and your model is as bad as it can get.\n",
    "- If you have an ROC AUC of 1, your positive and negative populations are perfectly separated and your model is as good as it can get.\n",
    "- The closer your ROC AUC is to 1, the better. (1 is the maximum score.)\n",
    "- If you have an ROC AUC of below 0.5, your positive and negative distributions have flipped sides."
   ]
  },
  {
   "cell_type": "code",
   "execution_count": 20,
   "id": "c73248e2-2e21-4926-8959-60cd5aeea849",
   "metadata": {},
   "outputs": [
    {
     "data": {
      "image/png": "[encoded data removed]",
      "text/plain": [
       "<Figure size 432x288 with 1 Axes>"
      ]
     },
     "metadata": {
      "needs_background": "light"
     },
     "output_type": "display_data"
    }
   ],
   "source": [
    "# ROC curve\n",
    "plot_roc_curve(gs, X_val, y_val)\n",
    "\n",
    "# add worst case scenario line\n",
    "plt.plot([0, 1], [0, 1], label=\"baseline\", linestyle=\"--\")\n",
    "\n",
    "# add a legend\n",
    "plt.legend();"
   ]
  },
  {
   "cell_type": "code",
   "execution_count": 21,
   "id": "b7234421-8c9f-4825-8393-6466415f62ff",
   "metadata": {},
   "outputs": [
    {
     "data": {
      "text/plain": [
       "0.9563697600000001"
      ]
     },
     "execution_count": 21,
     "metadata": {},
     "output_type": "execute_result"
    }
   ],
   "source": [
    "# Calculate ROC AUC.\n",
    "roc_auc_score(y_val, gs.predict_proba(X_val)[:,1])"
   ]
  },
  {
   "cell_type": "markdown",
   "id": "340e3f6c-116d-4631-8718-befc4b68f2a8",
   "metadata": {},
   "source": [
    "## Modeling using TF-IDF Vecotizer:"
   ]
  },
  {
   "cell_type": "code",
   "execution_count": 6,
   "id": "766a0e7d-3259-4e93-8cd3-c0ff3161182f",
   "metadata": {},
   "outputs": [],
   "source": [
    "# Defining matrixes\n",
    "X = data['title']\n",
    "y = data['subreddit']\n",
    "\n",
    "# Train/Test splitting\n",
    "X_train, X_val, y_train, y_val = train_test_split(X, y, random_state=42, stratify=y)\n",
    "\n",
    "# Vectorize and plot but using 'english' stopwords, unigrams and bigrams\n",
    "tvec = TfidfVectorizer(stop_words='english', ngram_range=(1,2))\n",
    "\n",
    "X_train = tvec.fit_transform(X_train)\n",
    "X_val = tvec.transform(X_val)"
   ]
  },
  {
   "cell_type": "markdown",
   "id": "f9c4fa94-a14b-40cb-b367-a034198e4819",
   "metadata": {},
   "source": [
    "Instantiating RandomForestClassifier and Gridsearch:"
   ]
  },
  {
   "cell_type": "code",
   "execution_count": 7,
   "id": "729af44b-580c-4724-a3bf-ea4aae059ff4",
   "metadata": {},
   "outputs": [
    {
     "name": "stdout",
     "output_type": "stream",
     "text": [
      "Fitting 5 folds for each of 18 candidates, totalling 90 fits\n"
     ]
    }
   ],
   "source": [
    "# Instantiate RF.\n",
    "kf = KFold(5, shuffle=True, random_state=42)\n",
    "\n",
    "rf_params = {\n",
    "    'n_estimators': [100, 150, 200],\n",
    "    'max_depth': [None, 1, 2, 3, 4, 5],\n",
    "}\n",
    "\n",
    "model = RandomForestClassifier()\n",
    "\n",
    "gs = GridSearchCV(model, rf_params, cv=kf, n_jobs=-1, verbose=1)\n",
    "\n",
    "# # Fit on training data.\n",
    "gs.fit(X_train, y_train);"
   ]
  },
  {
   "cell_type": "markdown",
   "id": "728cc9a8-a60a-4fcd-99bf-d8255aab20d2",
   "metadata": {},
   "source": [
    "Measuring performance:"
   ]
  },
  {
   "cell_type": "code",
   "execution_count": 8,
   "id": "f6539d1f-52c1-4e31-85ff-98e360773691",
   "metadata": {
    "tags": []
   },
   "outputs": [
    {
     "data": {
      "text/plain": [
       "0.8835333333333333"
      ]
     },
     "execution_count": 8,
     "metadata": {},
     "output_type": "execute_result"
    }
   ],
   "source": [
    "gs.best_score_"
   ]
  },
  {
   "cell_type": "code",
   "execution_count": 9,
   "id": "d865ac70-5d1e-4b70-bd34-37076966aebf",
   "metadata": {},
   "outputs": [
    {
     "data": {
      "text/plain": [
       "0.9966666666666667"
      ]
     },
     "execution_count": 9,
     "metadata": {},
     "output_type": "execute_result"
    }
   ],
   "source": [
    "gs.score(X_train, y_train)"
   ]
  },
  {
   "cell_type": "code",
   "execution_count": 10,
   "id": "8261e0f1-23fa-40cf-a446-2054b0f3a855",
   "metadata": {},
   "outputs": [
    {
     "data": {
      "text/plain": [
       "0.8888"
      ]
     },
     "execution_count": 10,
     "metadata": {},
     "output_type": "execute_result"
    }
   ],
   "source": [
    "gs.score(X_val, y_val)"
   ]
  },
  {
   "cell_type": "markdown",
   "id": "b3984672-f465-4562-934c-cdae6a48d0e1",
   "metadata": {},
   "source": [
    "Confusion Matrix:"
   ]
  },
  {
   "cell_type": "code",
   "execution_count": 11,
   "id": "fe6f3f65-1923-47e6-a58c-b9e33fe02aae",
   "metadata": {},
   "outputs": [
    {
     "name": "stdout",
     "output_type": "stream",
     "text": [
      "Specificity: 0.9492\n",
      "Precision: 0.9422202001819836\n"
     ]
    }
   ],
   "source": [
    "# Get predictions\n",
    "preds_tvec = gs.predict(X_val)\n",
    "\n",
    "# Save confusion matrix values\n",
    "tn, fp, fn, tp = confusion_matrix(y_val, preds_tvec).ravel()\n",
    "\n",
    "# Calculate the specificity and precision\n",
    "\n",
    "spec = tn / (tn + fp)\n",
    "prec = tp / (tp + fp)\n",
    "\n",
    "print('Specificity:', spec)\n",
    "print('Precision:', prec)"
   ]
  },
  {
   "cell_type": "code",
   "execution_count": 12,
   "id": "0a76dc3e-16ea-4872-b507-ae4c0743af84",
   "metadata": {},
   "outputs": [
    {
     "data": {
      "image/png": "[encoded data removed]",
      "text/plain": [
       "<Figure size 432x288 with 2 Axes>"
      ]
     },
     "metadata": {
      "needs_background": "light"
     },
     "output_type": "display_data"
    }
   ],
   "source": [
    "# visualize this\n",
    "plot_confusion_matrix(gs, X_val, y_val, cmap='Blues', values_format='d');"
   ]
  },
  {
   "cell_type": "code",
   "execution_count": 13,
   "id": "ee12c076-16c8-48be-8da9-06955887a111",
   "metadata": {},
   "outputs": [
    {
     "data": {
      "image/png": "[encoded data removed]",
      "text/plain": [
       "<Figure size 432x288 with 1 Axes>"
      ]
     },
     "metadata": {
      "needs_background": "light"
     },
     "output_type": "display_data"
    }
   ],
   "source": [
    "# ROC curve\n",
    "plot_roc_curve(gs, X_val, y_val)\n",
    "\n",
    "# add worst case scenario line\n",
    "plt.plot([0, 1], [0, 1], label=\"baseline\", linestyle=\"--\")\n",
    "\n",
    "# add a legend\n",
    "plt.legend();"
   ]
  },
  {
   "cell_type": "code",
   "execution_count": 14,
   "id": "5a28d200-a2ee-4943-a668-e28dbc3e0f3a",
   "metadata": {},
   "outputs": [
    {
     "data": {
      "text/plain": [
       "0.95425872"
      ]
     },
     "execution_count": 14,
     "metadata": {},
     "output_type": "execute_result"
    }
   ],
   "source": [
    "# Calculate ROC AUC.\n",
    "roc_auc_score(y_val, gs.predict_proba(X_val)[:,1])"
   ]
  }
 ],
 "metadata": {
  "kernelspec": {
   "display_name": "Python 3",
   "language": "python",
   "name": "python3"
  },
  "language_info": {
   "codemirror_mode": {
    "name": "ipython",
    "version": 3
   },
   "file_extension": ".py",
   "mimetype": "text/x-python",
   "name": "python",
   "nbconvert_exporter": "python",
   "pygments_lexer": "ipython3",
   "version": "3.8.8"
  }
 },
 "nbformat": 4,
 "nbformat_minor": 5
}
