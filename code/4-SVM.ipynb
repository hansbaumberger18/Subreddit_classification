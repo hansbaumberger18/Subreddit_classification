{
 "cells": [
  {
   "cell_type": "markdown",
   "id": "4532a9b3-b16e-4573-82d4-3eaf65930c07",
   "metadata": {},
   "source": [
    "# SVM model"
   ]
  },
  {
   "cell_type": "markdown",
   "id": "ac567a78-2d02-40ae-889f-211ef407b316",
   "metadata": {},
   "source": [
    "#### In this notebook, two Support Vector Machine classication models will be developed. First, text data will be converted into a structured numeric dataframe using Countvectorizer and then TF-IDF Vectorizer."
   ]
  },
  {
   "cell_type": "markdown",
   "id": "e64e2479-4f65-4815-9f60-8b21ba8b62b2",
   "metadata": {},
   "source": [
    "Importing libraries:"
   ]
  },
  {
   "cell_type": "code",
   "execution_count": 32,
   "id": "e58e11d3-f6b7-42ae-a9e7-95b91cf5ce8c",
   "metadata": {},
   "outputs": [],
   "source": [
    "import numpy as np\n",
    "import pandas as pd\n",
    "import matplotlib.pyplot as plt\n",
    "\n",
    "from sklearn.preprocessing import StandardScaler\n",
    "from sklearn.model_selection import GridSearchCV, train_test_split\n",
    "from sklearn.svm import SVC\n",
    "from sklearn.model_selection import KFold\n",
    "from sklearn.feature_extraction.text import CountVectorizer, TfidfVectorizer\n",
    "from sklearn.metrics import confusion_matrix, plot_confusion_matrix, plot_roc_curve, roc_auc_score\n"
   ]
  },
  {
   "cell_type": "markdown",
   "id": "4c5bfaae-504f-410f-9bca-e7dd919b30fa",
   "metadata": {},
   "source": [
    "Loading and merging data:"
   ]
  },
  {
   "cell_type": "code",
   "execution_count": 15,
   "id": "73b9a042-5849-469f-8901-38abb8443b49",
   "metadata": {},
   "outputs": [
    {
     "data": {
      "text/html": [
       "<div>\n",
       "<style scoped>\n",
       "    .dataframe tbody tr th:only-of-type {\n",
       "        vertical-align: middle;\n",
       "    }\n",
       "\n",
       "    .dataframe tbody tr th {\n",
       "        vertical-align: top;\n",
       "    }\n",
       "\n",
       "    .dataframe thead th {\n",
       "        text-align: right;\n",
       "    }\n",
       "</style>\n",
       "<table border=\"1\" class=\"dataframe\">\n",
       "  <thead>\n",
       "    <tr style=\"text-align: right;\">\n",
       "      <th></th>\n",
       "      <th>subreddit</th>\n",
       "      <th>title</th>\n",
       "    </tr>\n",
       "  </thead>\n",
       "  <tbody>\n",
       "    <tr>\n",
       "      <th>0</th>\n",
       "      <td>CryptoMarkets</td>\n",
       "      <td>Polychain and Celo Validator Community Bootstr...</td>\n",
       "    </tr>\n",
       "    <tr>\n",
       "      <th>1</th>\n",
       "      <td>CryptoMarkets</td>\n",
       "      <td>What's the Economics Of Public Goods ? :O</td>\n",
       "    </tr>\n",
       "    <tr>\n",
       "      <th>2</th>\n",
       "      <td>CryptoMarkets</td>\n",
       "      <td>Invesco pulls Bitcoin ETF application and othe...</td>\n",
       "    </tr>\n",
       "    <tr>\n",
       "      <th>3</th>\n",
       "      <td>CryptoMarkets</td>\n",
       "      <td>New York State Watchdog Orders Two Crypto Firm...</td>\n",
       "    </tr>\n",
       "    <tr>\n",
       "      <th>4</th>\n",
       "      <td>CryptoMarkets</td>\n",
       "      <td>New milestone: ProShares Bitcoin ETF goes publ...</td>\n",
       "    </tr>\n",
       "  </tbody>\n",
       "</table>\n",
       "</div>"
      ],
      "text/plain": [
       "       subreddit                                              title\n",
       "0  CryptoMarkets  Polychain and Celo Validator Community Bootstr...\n",
       "1  CryptoMarkets          What's the Economics Of Public Goods ? :O\n",
       "2  CryptoMarkets  Invesco pulls Bitcoin ETF application and othe...\n",
       "3  CryptoMarkets  New York State Watchdog Orders Two Crypto Firm...\n",
       "4  CryptoMarkets  New milestone: ProShares Bitcoin ETF goes publ..."
      ]
     },
     "execution_count": 15,
     "metadata": {},
     "output_type": "execute_result"
    }
   ],
   "source": [
    "crypto = pd.read_csv('../data/sub-crypto.csv')\n",
    "eco = pd.read_csv('../data/sub-economics.csv')\n",
    "\n",
    "# Merging both together\n",
    "data = crypto.append(eco)\n",
    "data.head()"
   ]
  },
  {
   "cell_type": "code",
   "execution_count": 16,
   "id": "a1cd7ad5-9dfb-4b82-bcd9-65e01816df8e",
   "metadata": {},
   "outputs": [
    {
     "data": {
      "text/plain": [
       "(20000, 2)"
      ]
     },
     "execution_count": 16,
     "metadata": {},
     "output_type": "execute_result"
    }
   ],
   "source": [
    "data.shape"
   ]
  },
  {
   "cell_type": "markdown",
   "id": "2a46c6d1-188c-4645-a9ed-92f577754228",
   "metadata": {},
   "source": [
    "One hot encoding 'subreddit' column:"
   ]
  },
  {
   "cell_type": "code",
   "execution_count": 17,
   "id": "9ff32134-db63-487c-82b3-7a9eac6c7c6f",
   "metadata": {},
   "outputs": [
    {
     "data": {
      "text/html": [
       "<div>\n",
       "<style scoped>\n",
       "    .dataframe tbody tr th:only-of-type {\n",
       "        vertical-align: middle;\n",
       "    }\n",
       "\n",
       "    .dataframe tbody tr th {\n",
       "        vertical-align: top;\n",
       "    }\n",
       "\n",
       "    .dataframe thead th {\n",
       "        text-align: right;\n",
       "    }\n",
       "</style>\n",
       "<table border=\"1\" class=\"dataframe\">\n",
       "  <thead>\n",
       "    <tr style=\"text-align: right;\">\n",
       "      <th></th>\n",
       "      <th>subreddit</th>\n",
       "      <th>title</th>\n",
       "    </tr>\n",
       "  </thead>\n",
       "  <tbody>\n",
       "    <tr>\n",
       "      <th>0</th>\n",
       "      <td>0</td>\n",
       "      <td>Polychain and Celo Validator Community Bootstr...</td>\n",
       "    </tr>\n",
       "    <tr>\n",
       "      <th>1</th>\n",
       "      <td>0</td>\n",
       "      <td>What's the Economics Of Public Goods ? :O</td>\n",
       "    </tr>\n",
       "    <tr>\n",
       "      <th>2</th>\n",
       "      <td>0</td>\n",
       "      <td>Invesco pulls Bitcoin ETF application and othe...</td>\n",
       "    </tr>\n",
       "    <tr>\n",
       "      <th>3</th>\n",
       "      <td>0</td>\n",
       "      <td>New York State Watchdog Orders Two Crypto Firm...</td>\n",
       "    </tr>\n",
       "    <tr>\n",
       "      <th>4</th>\n",
       "      <td>0</td>\n",
       "      <td>New milestone: ProShares Bitcoin ETF goes publ...</td>\n",
       "    </tr>\n",
       "  </tbody>\n",
       "</table>\n",
       "</div>"
      ],
      "text/plain": [
       "   subreddit                                              title\n",
       "0          0  Polychain and Celo Validator Community Bootstr...\n",
       "1          0          What's the Economics Of Public Goods ? :O\n",
       "2          0  Invesco pulls Bitcoin ETF application and othe...\n",
       "3          0  New York State Watchdog Orders Two Crypto Firm...\n",
       "4          0  New milestone: ProShares Bitcoin ETF goes publ..."
      ]
     },
     "execution_count": 17,
     "metadata": {},
     "output_type": "execute_result"
    }
   ],
   "source": [
    "data['subreddit'].replace({'CryptoMarkets': 0, 'Economics': 1}, inplace = True)\n",
    "\n",
    "# Displaying first 5 rows\n",
    "data.head()"
   ]
  },
  {
   "cell_type": "markdown",
   "id": "699946d6-3266-4cbc-9eb2-e1a6e2f8f721",
   "metadata": {},
   "source": [
    "Shuffling the data:"
   ]
  },
  {
   "cell_type": "code",
   "execution_count": 18,
   "id": "769ccb20-425d-4355-9f4d-3dad4b481437",
   "metadata": {},
   "outputs": [
    {
     "data": {
      "text/html": [
       "<div>\n",
       "<style scoped>\n",
       "    .dataframe tbody tr th:only-of-type {\n",
       "        vertical-align: middle;\n",
       "    }\n",
       "\n",
       "    .dataframe tbody tr th {\n",
       "        vertical-align: top;\n",
       "    }\n",
       "\n",
       "    .dataframe thead th {\n",
       "        text-align: right;\n",
       "    }\n",
       "</style>\n",
       "<table border=\"1\" class=\"dataframe\">\n",
       "  <thead>\n",
       "    <tr style=\"text-align: right;\">\n",
       "      <th></th>\n",
       "      <th>subreddit</th>\n",
       "      <th>title</th>\n",
       "    </tr>\n",
       "  </thead>\n",
       "  <tbody>\n",
       "    <tr>\n",
       "      <th>2143</th>\n",
       "      <td>1</td>\n",
       "      <td>Inflation: Normal Economic Phenomenon or Resul...</td>\n",
       "    </tr>\n",
       "    <tr>\n",
       "      <th>4568</th>\n",
       "      <td>1</td>\n",
       "      <td>Are Governments to blame? (Poor Economics - Ab...</td>\n",
       "    </tr>\n",
       "    <tr>\n",
       "      <th>6977</th>\n",
       "      <td>1</td>\n",
       "      <td>IELTS ACADEMIC WRITING: KEY STEPS IN TASK 2</td>\n",
       "    </tr>\n",
       "    <tr>\n",
       "      <th>9207</th>\n",
       "      <td>0</td>\n",
       "      <td>Cross The Ages a Card Game</td>\n",
       "    </tr>\n",
       "    <tr>\n",
       "      <th>704</th>\n",
       "      <td>1</td>\n",
       "      <td>Do you know you can make $5,000 daily with bit...</td>\n",
       "    </tr>\n",
       "  </tbody>\n",
       "</table>\n",
       "</div>"
      ],
      "text/plain": [
       "      subreddit                                              title\n",
       "2143          1  Inflation: Normal Economic Phenomenon or Resul...\n",
       "4568          1  Are Governments to blame? (Poor Economics - Ab...\n",
       "6977          1        IELTS ACADEMIC WRITING: KEY STEPS IN TASK 2\n",
       "9207          0                         Cross The Ages a Card Game\n",
       "704           1  Do you know you can make $5,000 daily with bit..."
      ]
     },
     "execution_count": 18,
     "metadata": {},
     "output_type": "execute_result"
    }
   ],
   "source": [
    "# code from: https://stackoverflow.com/questions/29576430/shuffle-dataframe-rows\n",
    "data = data.sample(frac = 1)\n",
    "\n",
    "# Displaying first 5 rows\n",
    "data.head()"
   ]
  },
  {
   "cell_type": "markdown",
   "id": "a123564d-7a18-4c94-a173-80d8874e0005",
   "metadata": {},
   "source": [
    "Defining matrixes:"
   ]
  },
  {
   "cell_type": "code",
   "execution_count": 19,
   "id": "7fa36870-e8df-4663-81cd-6fe9f2a8bdf6",
   "metadata": {
    "tags": []
   },
   "outputs": [],
   "source": [
    "X = data['title'] #Feature matrix\n",
    "y = data['subreddit'] #Target matrix"
   ]
  },
  {
   "cell_type": "code",
   "execution_count": 9,
   "id": "6626e41c-302f-4e33-96f0-c60c231d1ffb",
   "metadata": {},
   "outputs": [
    {
     "data": {
      "text/plain": [
       "0    0.5\n",
       "1    0.5\n",
       "Name: subreddit, dtype: float64"
      ]
     },
     "execution_count": 9,
     "metadata": {},
     "output_type": "execute_result"
    }
   ],
   "source": [
    "# Check what we need to check in a classification problem.\n",
    "y.value_counts(normalize = True)"
   ]
  },
  {
   "cell_type": "markdown",
   "id": "abf96dc4-a323-42a2-ad6e-dc49e7cf70eb",
   "metadata": {},
   "source": [
    "Train/Test splitting, fitting and transforming (CountVectorizer):"
   ]
  },
  {
   "cell_type": "code",
   "execution_count": 10,
   "id": "7c960775-2c7f-40e3-bb78-227a00401749",
   "metadata": {},
   "outputs": [],
   "source": [
    "# Train/Test Split.\n",
    "X_train, X_test, y_train, y_test = train_test_split(\n",
    "    X,\n",
    "    y,\n",
    "    test_size=0.3,\n",
    "    stratify = y,\n",
    "    random_state=42\n",
    ")"
   ]
  },
  {
   "cell_type": "code",
   "execution_count": 9,
   "id": "29489e17-b134-486f-bab4-8a955f1fbfc1",
   "metadata": {},
   "outputs": [],
   "source": [
    "# Vectorize and plot but using 'english' stopwords and bigrams\n",
    "cv = CountVectorizer(stop_words='english', ngram_range=(2,2)) #ngram_range: only bigrams\n",
    "\n",
    "X_train = cv.fit_transform(X_train)\n",
    "X_test = cv.transform(X_test)"
   ]
  },
  {
   "cell_type": "code",
   "execution_count": 10,
   "id": "42201fab-ebd1-4828-9eb9-0a3a0223851a",
   "metadata": {},
   "outputs": [
    {
     "data": {
      "text/plain": [
       "0.49366666666666664"
      ]
     },
     "execution_count": 10,
     "metadata": {},
     "output_type": "execute_result"
    }
   ],
   "source": [
    "# Baseline score\n",
    "y_test.value_counts(normalize=True)[0]"
   ]
  },
  {
   "cell_type": "markdown",
   "id": "c299f846-9c73-4ecf-88e3-1dc6dcd5af85",
   "metadata": {},
   "source": [
    "Instantiating, fitting Support Vector Machine and measuring performance:"
   ]
  },
  {
   "cell_type": "code",
   "execution_count": 23,
   "id": "9e3e54f0-0929-4e87-ab12-6f7b0cdb9f50",
   "metadata": {
    "tags": []
   },
   "outputs": [],
   "source": [
    "# Instantiate SVM:\n",
    "svc = SVC()"
   ]
  },
  {
   "cell_type": "code",
   "execution_count": 24,
   "id": "92e6bb10-4597-4014-b750-2fafbf7700fc",
   "metadata": {},
   "outputs": [
    {
     "data": {
      "text/plain": [
       "SVC()"
      ]
     },
     "execution_count": 24,
     "metadata": {},
     "output_type": "execute_result"
    }
   ],
   "source": [
    "# Fit SVM to training data.\n",
    "svc.fit(X_train, y_train)"
   ]
  },
  {
   "cell_type": "code",
   "execution_count": 25,
   "id": "4fec4b47-4478-4764-9893-5b2ca3f29e01",
   "metadata": {},
   "outputs": [],
   "source": [
    "# Predictions.\n",
    "y_pred = svc.predict(X_test)"
   ]
  },
  {
   "cell_type": "code",
   "execution_count": 27,
   "id": "c7fc49a2-8fa5-4b54-8737-45d8d1d28b3f",
   "metadata": {},
   "outputs": [
    {
     "name": "stdout",
     "output_type": "stream",
     "text": [
      "train score: 0.9708571428571429\n",
      "test score: 0.7008333333333333\n"
     ]
    }
   ],
   "source": [
    "# Measure performance based on accuracy.\n",
    "print('train score:', svc.score(X_train, y_train))\n",
    "print('test score:', svc.score(X_test, y_test))"
   ]
  },
  {
   "cell_type": "markdown",
   "id": "5ab0203e-196f-4d34-943d-9b43c5765b21",
   "metadata": {},
   "source": [
    "Instantiating KFold and Gridsearch:"
   ]
  },
  {
   "cell_type": "code",
   "execution_count": 29,
   "id": "4069fe23-e6cf-427d-ba1c-08ac5167bb49",
   "metadata": {
    "tags": []
   },
   "outputs": [
    {
     "name": "stdout",
     "output_type": "stream",
     "text": [
      "Fitting 5 folds for each of 300 candidates, totalling 1500 fits\n"
     ]
    }
   ],
   "source": [
    "#KFold:\n",
    "kf = KFold(5, shuffle=True, random_state=42)\n",
    "\n",
    "params = {\n",
    "    'C': np.linspace(0.001, 100, 25),\n",
    "    'kernel': ['rbf', 'poly', 'sigmoid'],\n",
    "    'degree': [2, 3], # only relevant for poly kernel\n",
    "    'gamma': ['scale', 'auto']\n",
    "}\n",
    "\n",
    "model = SVC(random_state=42)\n",
    "\n",
    "#Gridsearch:\n",
    "gs = GridSearchCV(model, params, cv=kf, n_jobs=-1, verbose=1)\n",
    "\n",
    "# Fit on training data.\n",
    "gs.fit(X_train, y_train);"
   ]
  },
  {
   "cell_type": "code",
   "execution_count": 30,
   "id": "6f792e60-23a6-4cc3-92c8-fcdbeff417b4",
   "metadata": {},
   "outputs": [
    {
     "data": {
      "text/plain": [
       "{'C': 4.167625, 'degree': 2, 'gamma': 'scale', 'kernel': 'sigmoid'}"
      ]
     },
     "execution_count": 30,
     "metadata": {},
     "output_type": "execute_result"
    }
   ],
   "source": [
    "gs.best_params_"
   ]
  },
  {
   "cell_type": "markdown",
   "id": "89c329ab-fba8-46aa-ba32-67c9a2f51311",
   "metadata": {},
   "source": [
    "Measure performance:"
   ]
  },
  {
   "cell_type": "code",
   "execution_count": 31,
   "id": "320cd40e-b0d6-4054-9075-7bae1ac00617",
   "metadata": {},
   "outputs": [
    {
     "data": {
      "text/plain": [
       "0.759857142857143"
      ]
     },
     "execution_count": 31,
     "metadata": {},
     "output_type": "execute_result"
    }
   ],
   "source": [
    "gs.best_score_"
   ]
  },
  {
   "cell_type": "code",
   "execution_count": 32,
   "id": "46cb0cc2-86ee-4b3e-8459-0044c7171ac9",
   "metadata": {},
   "outputs": [
    {
     "data": {
      "text/plain": [
       "0.786"
      ]
     },
     "execution_count": 32,
     "metadata": {},
     "output_type": "execute_result"
    }
   ],
   "source": [
    "#Accuracy:\n",
    "gs.score(X_test, y_test)"
   ]
  },
  {
   "cell_type": "markdown",
   "id": "9870957f-a6ea-4d97-8268-92dd891b1250",
   "metadata": {},
   "source": [
    "## Let's try again with TD-IDF Vectorizer"
   ]
  },
  {
   "cell_type": "markdown",
   "id": "c6e3830c-7da7-41b9-9a44-c4080a3fb6b7",
   "metadata": {},
   "source": [
    "Train/Test splitting, fitting and transforming (TF-IDF Vectorizer):"
   ]
  },
  {
   "cell_type": "code",
   "execution_count": 20,
   "id": "6e414dcc-d6bf-4798-9f51-3fc8fc2aa1b0",
   "metadata": {},
   "outputs": [],
   "source": [
    "# Train/Test Split.\n",
    "X_train, X_test, y_train, y_test = train_test_split(\n",
    "    X,\n",
    "    y,\n",
    "    test_size=0.3,\n",
    "    stratify = y,\n",
    "    random_state=42\n",
    ")"
   ]
  },
  {
   "cell_type": "code",
   "execution_count": 21,
   "id": "d363fb26-a4b3-4c6d-8bf6-548376961376",
   "metadata": {},
   "outputs": [],
   "source": [
    "# Vectorize and plot but using 'english' stopwords, unigrams and bigrams\n",
    "tvec = TfidfVectorizer(stop_words='english', ngram_range=(1,2))\n",
    "\n",
    "X_train = tvec.fit_transform(X_train)\n",
    "X_test = tvec.transform(X_test)"
   ]
  },
  {
   "cell_type": "code",
   "execution_count": 22,
   "id": "5f66a3bc-33f2-4917-8548-3d61b0d8c85d",
   "metadata": {},
   "outputs": [
    {
     "data": {
      "text/plain": [
       "0.5"
      ]
     },
     "execution_count": 22,
     "metadata": {},
     "output_type": "execute_result"
    }
   ],
   "source": [
    "# Baseline score\n",
    "y_test.value_counts(normalize=True)[0]"
   ]
  },
  {
   "cell_type": "markdown",
   "id": "06738fe0-ea60-4bed-9e6c-e7b2d50c11a4",
   "metadata": {},
   "source": [
    "Instantiating KFold and Gridsearch:"
   ]
  },
  {
   "cell_type": "code",
   "execution_count": 23,
   "id": "a87a0662-3601-4214-9487-57bac917b25a",
   "metadata": {
    "tags": []
   },
   "outputs": [
    {
     "name": "stdout",
     "output_type": "stream",
     "text": [
      "Fitting 5 folds for each of 300 candidates, totalling 1500 fits\n"
     ]
    }
   ],
   "source": [
    "# Instantiate SVM.\n",
    "\n",
    "\n",
    "kf = KFold(5, shuffle=True, random_state=42)\n",
    "\n",
    "params = {\n",
    "    'C': np.linspace(0.001, 100, 25),\n",
    "    'kernel': ['rbf', 'poly', 'sigmoid'],\n",
    "    'degree': [2, 3], # only relevant for poly kernel\n",
    "    'gamma': ['scale', 'auto']\n",
    "}\n",
    "\n",
    "model = SVC(random_state=42)\n",
    "\n",
    "gs = GridSearchCV(model, params, cv=kf, n_jobs=-1, verbose=1)\n",
    "\n",
    "# Fit on training data.\n",
    "gs.fit(X_train, y_train);"
   ]
  },
  {
   "cell_type": "code",
   "execution_count": 24,
   "id": "a9f17d39-10f2-482b-9912-3cc5e77fbb77",
   "metadata": {
    "tags": []
   },
   "outputs": [
    {
     "data": {
      "text/plain": [
       "{'C': 4.167625, 'degree': 2, 'gamma': 'scale', 'kernel': 'rbf'}"
      ]
     },
     "execution_count": 24,
     "metadata": {},
     "output_type": "execute_result"
    }
   ],
   "source": [
    "gs.best_params_"
   ]
  },
  {
   "cell_type": "markdown",
   "id": "4f72b967-67bb-41ae-ac65-c565d24745d1",
   "metadata": {},
   "source": [
    "Measure performance:"
   ]
  },
  {
   "cell_type": "code",
   "execution_count": 25,
   "id": "03e34d4e-7717-408f-8d59-839c14594bbd",
   "metadata": {
    "tags": []
   },
   "outputs": [
    {
     "data": {
      "text/plain": [
       "0.9017857142857142"
      ]
     },
     "execution_count": 25,
     "metadata": {},
     "output_type": "execute_result"
    }
   ],
   "source": [
    "gs.best_score_"
   ]
  },
  {
   "cell_type": "code",
   "execution_count": 26,
   "id": "d0c18842-54a2-4f6b-af1f-3b2d476c2ab4",
   "metadata": {},
   "outputs": [
    {
     "data": {
      "text/plain": [
       "0.9968571428571429"
      ]
     },
     "execution_count": 26,
     "metadata": {},
     "output_type": "execute_result"
    }
   ],
   "source": [
    "# Accuracy score model on training set.\n",
    "gs.score(X_train, y_train)"
   ]
  },
  {
   "cell_type": "code",
   "execution_count": 27,
   "id": "8013df74-d5da-46c4-98fa-b358ba9b853f",
   "metadata": {},
   "outputs": [
    {
     "data": {
      "text/plain": [
       "0.9136666666666666"
      ]
     },
     "execution_count": 27,
     "metadata": {},
     "output_type": "execute_result"
    }
   ],
   "source": [
    "# Accuracy score model on testing set.\n",
    "gs.score(X_test, y_test)"
   ]
  },
  {
   "cell_type": "markdown",
   "id": "4b207b36-ab58-443a-a047-1a9ebd1dd5b0",
   "metadata": {},
   "source": [
    "Confusion Matrix:"
   ]
  },
  {
   "cell_type": "code",
   "execution_count": 28,
   "id": "201aa852-dd2d-4ca6-ae4a-3c6c8d596efc",
   "metadata": {},
   "outputs": [
    {
     "name": "stdout",
     "output_type": "stream",
     "text": [
      "Specificity: 0.9236666666666666\n",
      "Precision: 0.922108843537415\n"
     ]
    }
   ],
   "source": [
    "# Predictions\n",
    "preds_tvec = gs.predict(X_test)\n",
    "\n",
    "# Confusion matrix values\n",
    "tn, fp, fn, tp = confusion_matrix(y_test, preds_tvec).ravel()\n",
    "\n",
    "# Specificity and precision\n",
    "spec = tn / (tn + fp) \n",
    "prec = tp / (tp + fp) \n",
    "\n",
    "print('Specificity:', spec)\n",
    "print('Precision:', prec)"
   ]
  },
  {
   "cell_type": "code",
   "execution_count": 29,
   "id": "d94e3e60-db33-4b2c-9da9-5f83703a8e67",
   "metadata": {},
   "outputs": [
    {
     "data": {
      "image/png": "[encoded data removed]",
      "text/plain": [
       "<Figure size 432x288 with 2 Axes>"
      ]
     },
     "metadata": {
      "needs_background": "light"
     },
     "output_type": "display_data"
    }
   ],
   "source": [
    "# visualize confusion matrix\n",
    "plot_confusion_matrix(gs, X_test, y_test, cmap='Blues', values_format='d');"
   ]
  },
  {
   "cell_type": "markdown",
   "id": "07f62d16-a522-468e-a708-60e7141435bc",
   "metadata": {},
   "source": [
    "## Receiver Operating Characteristic (ROC) Curve\n",
    "\n",
    "This curve helps us visualize our tradeoff between _sensitivity_ and _specificity_ and understand how well-separated our populations are.\n",
    "\n",
    "### Interpreting ROC AUC\n",
    "- If you have an ROC AUC of 0.5, your positive and negative populations perfectly overlap and your model is as bad as it can get.\n",
    "- If you have an ROC AUC of 1, your positive and negative populations are perfectly separated and your model is as good as it can get.\n",
    "- The closer your ROC AUC is to 1, the better. (1 is the maximum score.)\n",
    "- If you have an ROC AUC of below 0.5, your positive and negative distributions have flipped sides."
   ]
  },
  {
   "cell_type": "code",
   "execution_count": 33,
   "id": "b64f38cf-8e60-43f5-a511-5eb27b6a322e",
   "metadata": {},
   "outputs": [
    {
     "data": {
      "image/png": "[encoded data removed]",
      "text/plain": [
       "<Figure size 432x288 with 1 Axes>"
      ]
     },
     "metadata": {
      "needs_background": "light"
     },
     "output_type": "display_data"
    }
   ],
   "source": [
    "# ROC curve\n",
    "plot_roc_curve(gs, X_test, y_test)\n",
    "\n",
    "# Worst case scenario line\n",
    "plt.plot([0, 1], [0, 1], label=\"baseline\", linestyle=\"--\")\n",
    "\n",
    "\n",
    "plt.legend();"
   ]
  },
  {
   "cell_type": "code",
   "execution_count": 41,
   "id": "c922a72d-b844-428e-be2b-fcb0013f2080",
   "metadata": {},
   "outputs": [
    {
     "data": {
      "text/plain": [
       "0.961775888888889"
      ]
     },
     "execution_count": 41,
     "metadata": {},
     "output_type": "execute_result"
    }
   ],
   "source": [
    "# ROC AUC score\n",
    "roc_auc_score(y_test, gs.decision_function(X_test)) #Binary classification - doc"
   ]
  }
 ],
 "metadata": {
  "kernelspec": {
   "display_name": "Python 3",
   "language": "python",
   "name": "python3"
  },
  "language_info": {
   "codemirror_mode": {
    "name": "ipython",
    "version": 3
   },
   "file_extension": ".py",
   "mimetype": "text/x-python",
   "name": "python",
   "nbconvert_exporter": "python",
   "pygments_lexer": "ipython3",
   "version": "3.8.8"
  }
 },
 "nbformat": 4,
 "nbformat_minor": 5
}
