{
 "cells": [
  {
   "cell_type": "markdown",
   "id": "6a55de29-0b2e-490f-9f9d-7e2aeb85c95d",
   "metadata": {},
   "source": [
    "# Multinomial Naive Bayes"
   ]
  },
  {
   "cell_type": "markdown",
   "id": "6ee3c6c7-2684-40f7-ace0-b053160ac087",
   "metadata": {},
   "source": [
    "#### In this notebook, a Multinomial Naive Bayes model will be developed. The text data will be converted into a structured numeric dataframe using TF-IDF Vectorizer."
   ]
  },
  {
   "cell_type": "markdown",
   "id": "687de806-9d7c-4184-84ef-369ca2081097",
   "metadata": {},
   "source": [
    "Importing libraries:"
   ]
  },
  {
   "cell_type": "code",
   "execution_count": 1,
   "id": "3e82941c-6d5f-495f-9c76-7a29abd65fcf",
   "metadata": {
    "tags": []
   },
   "outputs": [],
   "source": [
    "import numpy as np\n",
    "import pandas as pd\n",
    "import matplotlib.pyplot as plt\n",
    "\n",
    "from sklearn.preprocessing import StandardScaler\n",
    "from sklearn.model_selection import GridSearchCV, train_test_split\n",
    "from sklearn.svm import SVC\n",
    "from sklearn.feature_extraction.text import TfidfVectorizer, CountVectorizer\n",
    "from sklearn.naive_bayes import MultinomialNB\n",
    "from sklearn.metrics import confusion_matrix, plot_confusion_matrix, plot_roc_curve, roc_auc_score\n",
    "from sklearn.pipeline import Pipeline"
   ]
  },
  {
   "cell_type": "markdown",
   "id": "e788bd0f-e0bb-41e5-85b7-af700b7a6dc5",
   "metadata": {},
   "source": [
    "Loading and merging data:"
   ]
  },
  {
   "cell_type": "code",
   "execution_count": 2,
   "id": "fe678cc1-e9b6-4c80-b250-d13db78c58dc",
   "metadata": {},
   "outputs": [
    {
     "data": {
      "text/html": [
       "<div>\n",
       "<style scoped>\n",
       "    .dataframe tbody tr th:only-of-type {\n",
       "        vertical-align: middle;\n",
       "    }\n",
       "\n",
       "    .dataframe tbody tr th {\n",
       "        vertical-align: top;\n",
       "    }\n",
       "\n",
       "    .dataframe thead th {\n",
       "        text-align: right;\n",
       "    }\n",
       "</style>\n",
       "<table border=\"1\" class=\"dataframe\">\n",
       "  <thead>\n",
       "    <tr style=\"text-align: right;\">\n",
       "      <th></th>\n",
       "      <th>subreddit</th>\n",
       "      <th>title</th>\n",
       "    </tr>\n",
       "  </thead>\n",
       "  <tbody>\n",
       "    <tr>\n",
       "      <th>0</th>\n",
       "      <td>CryptoMarkets</td>\n",
       "      <td>Polychain and Celo Validator Community Bootstr...</td>\n",
       "    </tr>\n",
       "    <tr>\n",
       "      <th>1</th>\n",
       "      <td>CryptoMarkets</td>\n",
       "      <td>What's the Economics Of Public Goods ? :O</td>\n",
       "    </tr>\n",
       "    <tr>\n",
       "      <th>2</th>\n",
       "      <td>CryptoMarkets</td>\n",
       "      <td>Invesco pulls Bitcoin ETF application and othe...</td>\n",
       "    </tr>\n",
       "    <tr>\n",
       "      <th>3</th>\n",
       "      <td>CryptoMarkets</td>\n",
       "      <td>New York State Watchdog Orders Two Crypto Firm...</td>\n",
       "    </tr>\n",
       "    <tr>\n",
       "      <th>4</th>\n",
       "      <td>CryptoMarkets</td>\n",
       "      <td>New milestone: ProShares Bitcoin ETF goes publ...</td>\n",
       "    </tr>\n",
       "  </tbody>\n",
       "</table>\n",
       "</div>"
      ],
      "text/plain": [
       "       subreddit                                              title\n",
       "0  CryptoMarkets  Polychain and Celo Validator Community Bootstr...\n",
       "1  CryptoMarkets          What's the Economics Of Public Goods ? :O\n",
       "2  CryptoMarkets  Invesco pulls Bitcoin ETF application and othe...\n",
       "3  CryptoMarkets  New York State Watchdog Orders Two Crypto Firm...\n",
       "4  CryptoMarkets  New milestone: ProShares Bitcoin ETF goes publ..."
      ]
     },
     "execution_count": 2,
     "metadata": {},
     "output_type": "execute_result"
    }
   ],
   "source": [
    "crypto = pd.read_csv('../data/sub-crypto.csv')\n",
    "eco = pd.read_csv('../data/sub-economics.csv')\n",
    "\n",
    "# Merging bith together\n",
    "data = crypto.append(eco)\n",
    "data.head()"
   ]
  },
  {
   "cell_type": "code",
   "execution_count": 3,
   "id": "d59fcfae-98dc-4971-b8c5-5f0611a7cd3a",
   "metadata": {},
   "outputs": [
    {
     "data": {
      "text/plain": [
       "(20000, 2)"
      ]
     },
     "execution_count": 3,
     "metadata": {},
     "output_type": "execute_result"
    }
   ],
   "source": [
    "data.shape"
   ]
  },
  {
   "cell_type": "markdown",
   "id": "4a341211-1322-48eb-a9c7-94390728ffe1",
   "metadata": {},
   "source": [
    "One hot encoding 'subreddit' column:"
   ]
  },
  {
   "cell_type": "code",
   "execution_count": 4,
   "id": "1cad13a6-3d02-46b4-bfea-ac54065cf986",
   "metadata": {},
   "outputs": [
    {
     "data": {
      "text/html": [
       "<div>\n",
       "<style scoped>\n",
       "    .dataframe tbody tr th:only-of-type {\n",
       "        vertical-align: middle;\n",
       "    }\n",
       "\n",
       "    .dataframe tbody tr th {\n",
       "        vertical-align: top;\n",
       "    }\n",
       "\n",
       "    .dataframe thead th {\n",
       "        text-align: right;\n",
       "    }\n",
       "</style>\n",
       "<table border=\"1\" class=\"dataframe\">\n",
       "  <thead>\n",
       "    <tr style=\"text-align: right;\">\n",
       "      <th></th>\n",
       "      <th>subreddit</th>\n",
       "      <th>title</th>\n",
       "    </tr>\n",
       "  </thead>\n",
       "  <tbody>\n",
       "    <tr>\n",
       "      <th>0</th>\n",
       "      <td>0</td>\n",
       "      <td>Polychain and Celo Validator Community Bootstr...</td>\n",
       "    </tr>\n",
       "    <tr>\n",
       "      <th>1</th>\n",
       "      <td>0</td>\n",
       "      <td>What's the Economics Of Public Goods ? :O</td>\n",
       "    </tr>\n",
       "    <tr>\n",
       "      <th>2</th>\n",
       "      <td>0</td>\n",
       "      <td>Invesco pulls Bitcoin ETF application and othe...</td>\n",
       "    </tr>\n",
       "    <tr>\n",
       "      <th>3</th>\n",
       "      <td>0</td>\n",
       "      <td>New York State Watchdog Orders Two Crypto Firm...</td>\n",
       "    </tr>\n",
       "    <tr>\n",
       "      <th>4</th>\n",
       "      <td>0</td>\n",
       "      <td>New milestone: ProShares Bitcoin ETF goes publ...</td>\n",
       "    </tr>\n",
       "  </tbody>\n",
       "</table>\n",
       "</div>"
      ],
      "text/plain": [
       "   subreddit                                              title\n",
       "0          0  Polychain and Celo Validator Community Bootstr...\n",
       "1          0          What's the Economics Of Public Goods ? :O\n",
       "2          0  Invesco pulls Bitcoin ETF application and othe...\n",
       "3          0  New York State Watchdog Orders Two Crypto Firm...\n",
       "4          0  New milestone: ProShares Bitcoin ETF goes publ..."
      ]
     },
     "execution_count": 4,
     "metadata": {},
     "output_type": "execute_result"
    }
   ],
   "source": [
    "data['subreddit'].replace({'CryptoMarkets': 0, 'Economics': 1}, inplace = True)\n",
    "\n",
    "# Displaying first 5 rows\n",
    "data.head()"
   ]
  },
  {
   "cell_type": "markdown",
   "id": "411611d6-4778-4962-a863-e623e9f9e013",
   "metadata": {},
   "source": [
    "Shuffling the data:"
   ]
  },
  {
   "cell_type": "code",
   "execution_count": 5,
   "id": "943b52a5-cfcc-4b0d-bcaa-524a5a8e9067",
   "metadata": {},
   "outputs": [
    {
     "data": {
      "text/html": [
       "<div>\n",
       "<style scoped>\n",
       "    .dataframe tbody tr th:only-of-type {\n",
       "        vertical-align: middle;\n",
       "    }\n",
       "\n",
       "    .dataframe tbody tr th {\n",
       "        vertical-align: top;\n",
       "    }\n",
       "\n",
       "    .dataframe thead th {\n",
       "        text-align: right;\n",
       "    }\n",
       "</style>\n",
       "<table border=\"1\" class=\"dataframe\">\n",
       "  <thead>\n",
       "    <tr style=\"text-align: right;\">\n",
       "      <th></th>\n",
       "      <th>subreddit</th>\n",
       "      <th>title</th>\n",
       "    </tr>\n",
       "  </thead>\n",
       "  <tbody>\n",
       "    <tr>\n",
       "      <th>4757</th>\n",
       "      <td>1</td>\n",
       "      <td>How are equilibrium prices determined in a mar...</td>\n",
       "    </tr>\n",
       "    <tr>\n",
       "      <th>9236</th>\n",
       "      <td>0</td>\n",
       "      <td>If you have not opened your vault I do highly ...</td>\n",
       "    </tr>\n",
       "    <tr>\n",
       "      <th>4466</th>\n",
       "      <td>1</td>\n",
       "      <td>‘Sizable’ stimulus needed from the United Stat...</td>\n",
       "    </tr>\n",
       "    <tr>\n",
       "      <th>6335</th>\n",
       "      <td>0</td>\n",
       "      <td>Bitcoin ATM Stolen During Raid In Barcelona Cr...</td>\n",
       "    </tr>\n",
       "    <tr>\n",
       "      <th>1243</th>\n",
       "      <td>0</td>\n",
       "      <td>How dare u</td>\n",
       "    </tr>\n",
       "  </tbody>\n",
       "</table>\n",
       "</div>"
      ],
      "text/plain": [
       "      subreddit                                              title\n",
       "4757          1  How are equilibrium prices determined in a mar...\n",
       "9236          0  If you have not opened your vault I do highly ...\n",
       "4466          1  ‘Sizable’ stimulus needed from the United Stat...\n",
       "6335          0  Bitcoin ATM Stolen During Raid In Barcelona Cr...\n",
       "1243          0                                         How dare u"
      ]
     },
     "execution_count": 5,
     "metadata": {},
     "output_type": "execute_result"
    }
   ],
   "source": [
    "# code from: https://stackoverflow.com/questions/29576430/shuffle-dataframe-rows\n",
    "data = data.sample(frac = 1)\n",
    "\n",
    "# Displaying first 5 rows\n",
    "data.head()"
   ]
  },
  {
   "cell_type": "markdown",
   "id": "5d96a29b-8681-4232-8692-28cd4bca7b79",
   "metadata": {},
   "source": [
    "Defining matrixes and Train/Test splitting data:"
   ]
  },
  {
   "cell_type": "code",
   "execution_count": 6,
   "id": "1388ff4b-56e7-4358-97e0-d36a1c710a76",
   "metadata": {},
   "outputs": [],
   "source": [
    "X = data['title']\n",
    "y = data['subreddit']\n",
    "\n",
    "X_train, X_test, y_train, y_test = train_test_split(X,\n",
    "                                                    y,\n",
    "                                                    test_size=0.33,\n",
    "                                                    stratify = y,\n",
    "                                                    random_state=42)"
   ]
  },
  {
   "cell_type": "code",
   "execution_count": 7,
   "id": "f5c286f6-43b9-4d84-9608-3111a72e1006",
   "metadata": {},
   "outputs": [
    {
     "data": {
      "text/plain": [
       "0.5"
      ]
     },
     "execution_count": 7,
     "metadata": {},
     "output_type": "execute_result"
    }
   ],
   "source": [
    "# Baseline score\n",
    "y_test.value_counts(normalize=True)[0]"
   ]
  },
  {
   "cell_type": "markdown",
   "id": "5dc3ae9c-4e3a-4f3a-961e-149a04642a18",
   "metadata": {},
   "source": [
    "### Pipeline with  CountVectorizer and Multinomial Naive Bayes"
   ]
  },
  {
   "cell_type": "code",
   "execution_count": 9,
   "id": "b6e2da5f-23dc-46e8-8d33-9c870f0d4f2a",
   "metadata": {},
   "outputs": [
    {
     "data": {
      "text/plain": [
       "GridSearchCV(cv=5,\n",
       "             estimator=Pipeline(steps=[('cvec', CountVectorizer()),\n",
       "                                       ('nb', MultinomialNB())]),\n",
       "             n_jobs=-1,\n",
       "             param_grid={'cvec__ngram_range': [(1, 2)],\n",
       "                         'cvec__stop_words': ['english']})"
      ]
     },
     "execution_count": 9,
     "metadata": {},
     "output_type": "execute_result"
    }
   ],
   "source": [
    "pipe_cvec = Pipeline([\n",
    "    ('cvec', CountVectorizer()),\n",
    "    ('nb', MultinomialNB())\n",
    "])\n",
    "\n",
    "pipe_cvec_params = {\n",
    "    'cvec__stop_words': ['english'],\n",
    "    'cvec__ngram_range': [(1,2)] #unigrams and bigrams\n",
    "}\n",
    "\n",
    "# Instantiate GridSearchCV.\n",
    "\n",
    "gs_cvec = GridSearchCV(pipe_cvec, \n",
    "                        param_grid = pipe_cvec_params, \n",
    "                        cv=5, # 5-fold cross-validation\n",
    "                        n_jobs=-1)\n",
    "\n",
    "# Fit GridSearch to training data.\n",
    "gs_cvec.fit(X_train, y_train)"
   ]
  },
  {
   "cell_type": "markdown",
   "id": "69596650-ae5e-4577-9acf-8068d7823821",
   "metadata": {},
   "source": [
    "Measuring performance:"
   ]
  },
  {
   "cell_type": "code",
   "execution_count": 10,
   "id": "0ca1a82f-6ad4-4aaa-866e-3b73849a9f2c",
   "metadata": {},
   "outputs": [
    {
     "data": {
      "text/plain": [
       "{'cvec__ngram_range': (1, 2), 'cvec__stop_words': 'english'}"
      ]
     },
     "execution_count": 10,
     "metadata": {},
     "output_type": "execute_result"
    }
   ],
   "source": [
    "gs_cvec.best_params_"
   ]
  },
  {
   "cell_type": "code",
   "execution_count": 11,
   "id": "f32a8c1e-3c31-4a9e-92ca-ddd5b40c9fc4",
   "metadata": {},
   "outputs": [
    {
     "data": {
      "text/plain": [
       "0.9774626865671642"
      ]
     },
     "execution_count": 11,
     "metadata": {},
     "output_type": "execute_result"
    }
   ],
   "source": [
    "# Accuracy score model on training set.\n",
    "gs_cvec.score(X_train, y_train)"
   ]
  },
  {
   "cell_type": "code",
   "execution_count": 12,
   "id": "b4ef907e-3f6a-4d7c-acaa-393c961e21e8",
   "metadata": {},
   "outputs": [
    {
     "data": {
      "text/plain": [
       "0.9096969696969697"
      ]
     },
     "execution_count": 12,
     "metadata": {},
     "output_type": "execute_result"
    }
   ],
   "source": [
    "# Accuracy score model on testing set.\n",
    "gs_cvec.score(X_test, y_test)"
   ]
  },
  {
   "cell_type": "markdown",
   "id": "6fd4a0a2-7463-4d0d-b45b-49cfe0d3b741",
   "metadata": {},
   "source": [
    "Confusion Matrix:"
   ]
  },
  {
   "cell_type": "code",
   "execution_count": 13,
   "id": "5435a217-2caf-473c-82b5-9d45e183c8be",
   "metadata": {},
   "outputs": [
    {
     "name": "stdout",
     "output_type": "stream",
     "text": [
      "Specificity: 0.9257575757575758\n",
      "Precision: 0.9232936756418284\n"
     ]
    }
   ],
   "source": [
    "# Predictions\n",
    "preds_cvec = gs_cvec.predict(X_test)\n",
    "\n",
    "# Confusion matrix values\n",
    "tn, fp, fn, tp = confusion_matrix(y_test, preds_cvec).ravel()\n",
    "\n",
    "# Specificity and precision\n",
    "\n",
    "spec = tn / (tn + fp)\n",
    "prec = tp / (tp + fp)\n",
    "\n",
    "print('Specificity:', spec)\n",
    "print('Precision:', prec)"
   ]
  },
  {
   "cell_type": "code",
   "execution_count": 14,
   "id": "5d0f780b-7618-4bcd-8856-e4168d83b9f2",
   "metadata": {},
   "outputs": [
    {
     "data": {
      "image/png": "[encoded data removed]",
      "text/plain": [
       "<Figure size 432x288 with 2 Axes>"
      ]
     },
     "metadata": {
      "needs_background": "light"
     },
     "output_type": "display_data"
    }
   ],
   "source": [
    "# visualize confusion matrix\n",
    "plot_confusion_matrix(gs_cvec, X_test, y_test, cmap='Blues', values_format='d');"
   ]
  },
  {
   "cell_type": "markdown",
   "id": "7acfe392-5949-4f0d-a6e4-9fca2b1e62ff",
   "metadata": {},
   "source": [
    "## Receiver Operating Characteristic (ROC) Curve\n",
    "\n",
    "This curve helps us visualize our tradeoff between _sensitivity_ and _specificity_ and understand how well-separated our populations are.\n",
    "\n",
    "### Interpreting ROC AUC\n",
    "- If you have an ROC AUC of 0.5, your positive and negative populations perfectly overlap and your model is as bad as it can get.\n",
    "- If you have an ROC AUC of 1, your positive and negative populations are perfectly separated and your model is as good as it can get.\n",
    "- The closer your ROC AUC is to 1, the better. (1 is the maximum score.)\n",
    "- If you have an ROC AUC of below 0.5, your positive and negative distributions have flipped sides."
   ]
  },
  {
   "cell_type": "code",
   "execution_count": 15,
   "id": "206f49a3-e222-4e6b-a2df-b48a0fd5a76d",
   "metadata": {},
   "outputs": [
    {
     "data": {
      "image/png": "[encoded data removed]",
      "text/plain": [
       "<Figure size 432x288 with 1 Axes>"
      ]
     },
     "metadata": {
      "needs_background": "light"
     },
     "output_type": "display_data"
    }
   ],
   "source": [
    "# ROC curve\n",
    "plot_roc_curve(gs_cvec, X_test, y_test)\n",
    "\n",
    "# Worst case scenario line\n",
    "plt.plot([0, 1], [0, 1], label=\"baseline\", linestyle=\"--\")\n",
    "plt.legend();"
   ]
  },
  {
   "cell_type": "code",
   "execution_count": 16,
   "id": "107fa44f-00e9-44c4-957a-b2ae2ddbcd7c",
   "metadata": {},
   "outputs": [
    {
     "data": {
      "text/plain": [
       "0.9635659320477502"
      ]
     },
     "execution_count": 16,
     "metadata": {},
     "output_type": "execute_result"
    }
   ],
   "source": [
    "# ROC AUC score\n",
    "roc_auc_score(y_test, gs_cvec.predict_proba(X_test)[:, 1])"
   ]
  },
  {
   "cell_type": "markdown",
   "id": "369717f3-cc8c-4386-8f60-afa1e695d842",
   "metadata": {},
   "source": [
    "### Pipeline with TF-IDF Vectorizer and Multinomial Naive Bayes"
   ]
  },
  {
   "cell_type": "code",
   "execution_count": 23,
   "id": "930f2d4b-507b-4b1a-8c8f-3aeca1be19fd",
   "metadata": {
    "tags": []
   },
   "outputs": [
    {
     "data": {
      "text/plain": [
       "GridSearchCV(cv=5,\n",
       "             estimator=Pipeline(steps=[('tvec', TfidfVectorizer()),\n",
       "                                       ('nb', MultinomialNB())]),\n",
       "             n_jobs=-1,\n",
       "             param_grid={'tvec__ngram_range': [(1, 2)],\n",
       "                         'tvec__stop_words': ['english']})"
      ]
     },
     "execution_count": 23,
     "metadata": {},
     "output_type": "execute_result"
    }
   ],
   "source": [
    "pipe_tvec = Pipeline([\n",
    "    ('tvec', TfidfVectorizer()),\n",
    "    ('nb', MultinomialNB())\n",
    "])\n",
    "\n",
    "pipe_tvec_params = {\n",
    "    'tvec__stop_words': ['english'],\n",
    "    'tvec__ngram_range': [(1,2)] #unigrams and bigrams\n",
    "}\n",
    "\n",
    "# Instantiate GridSearchCV.\n",
    "\n",
    "gs_tvec = GridSearchCV(pipe_tvec, \n",
    "                        param_grid = pipe_tvec_params, \n",
    "                        cv=5, # 5-fold cross-validation\n",
    "                        n_jobs=-1)\n",
    "\n",
    "# Fit GridSearch to training data.\n",
    "gs_tvec.fit(X_train, y_train)"
   ]
  },
  {
   "cell_type": "markdown",
   "id": "487eb277-f55f-4a72-a91e-e2633ae9d81a",
   "metadata": {},
   "source": [
    "Measuring performance:"
   ]
  },
  {
   "cell_type": "code",
   "execution_count": 24,
   "id": "276f338f-610d-4214-8b63-2f3994ae84ad",
   "metadata": {
    "tags": []
   },
   "outputs": [
    {
     "data": {
      "text/plain": [
       "{'tvec__ngram_range': (1, 2), 'tvec__stop_words': 'english'}"
      ]
     },
     "execution_count": 24,
     "metadata": {},
     "output_type": "execute_result"
    }
   ],
   "source": [
    "gs_tvec.best_params_"
   ]
  },
  {
   "cell_type": "code",
   "execution_count": 25,
   "id": "1c96352e-5337-43f4-8803-e8a1ba8f3787",
   "metadata": {},
   "outputs": [
    {
     "data": {
      "text/plain": [
       "0.9773880597014926"
      ]
     },
     "execution_count": 25,
     "metadata": {},
     "output_type": "execute_result"
    }
   ],
   "source": [
    "# Accuracy score model on training set.\n",
    "gs_tvec.score(X_train, y_train)"
   ]
  },
  {
   "cell_type": "code",
   "execution_count": 26,
   "id": "172b9830-b978-4719-a294-10540704fa11",
   "metadata": {},
   "outputs": [
    {
     "data": {
      "text/plain": [
       "0.901060606060606"
      ]
     },
     "execution_count": 26,
     "metadata": {},
     "output_type": "execute_result"
    }
   ],
   "source": [
    "# Accuracy score model on testing set.\n",
    "gs_tvec.score(X_test, y_test)"
   ]
  },
  {
   "cell_type": "markdown",
   "id": "84b24c2c-be4d-4692-af1d-d333540fee31",
   "metadata": {},
   "source": [
    "Confusion Matrix:"
   ]
  },
  {
   "cell_type": "code",
   "execution_count": 27,
   "id": "24de77ee-32c0-4f9a-8053-a9cbdfc2fdac",
   "metadata": {
    "tags": []
   },
   "outputs": [
    {
     "name": "stdout",
     "output_type": "stream",
     "text": [
      "Specificity: 0.916969696969697\n",
      "Precision: 0.9142410015649453\n"
     ]
    }
   ],
   "source": [
    "# Predictions\n",
    "preds_tvec = gs_tvec.predict(X_test)\n",
    "\n",
    "# Confusion matrix values\n",
    "tn, fp, fn, tp = confusion_matrix(y_test, preds_tvec).ravel()\n",
    "\n",
    "# Specificity and precision\n",
    "\n",
    "spec = tn / (tn + fp)\n",
    "prec = tp / (tp + fp)\n",
    "\n",
    "print('Specificity:', spec)\n",
    "print('Precision:', prec)"
   ]
  },
  {
   "cell_type": "code",
   "execution_count": 28,
   "id": "c615e0e0-645d-4704-b635-aca9a2f7cef0",
   "metadata": {},
   "outputs": [
    {
     "data": {
      "image/png": "[encoded data removed]",
      "text/plain": [
       "<Figure size 432x288 with 2 Axes>"
      ]
     },
     "metadata": {
      "needs_background": "light"
     },
     "output_type": "display_data"
    }
   ],
   "source": [
    "# visualize confusion matrix\n",
    "plot_confusion_matrix(gs_tvec, X_test, y_test, cmap='Blues', values_format='d');"
   ]
  },
  {
   "cell_type": "code",
   "execution_count": 31,
   "id": "d1b60d5e-df39-4a1f-b828-124671c05c55",
   "metadata": {},
   "outputs": [
    {
     "data": {
      "image/png": "[encoded data removed]",
      "text/plain": [
       "<Figure size 432x288 with 1 Axes>"
      ]
     },
     "metadata": {
      "needs_background": "light"
     },
     "output_type": "display_data"
    }
   ],
   "source": [
    "# ROC curve\n",
    "plot_roc_curve(gs_tvec, X_test, y_test)\n",
    "\n",
    "# Worst case scenario line\n",
    "plt.plot([0, 1], [0, 1], label=\"baseline\", linestyle=\"--\")\n",
    "plt.legend();"
   ]
  },
  {
   "cell_type": "code",
   "execution_count": 41,
   "id": "79ea4fac-7459-48e8-b333-a35af9435c7b",
   "metadata": {},
   "outputs": [
    {
     "data": {
      "text/plain": [
       "0.9613488521579432"
      ]
     },
     "execution_count": 41,
     "metadata": {},
     "output_type": "execute_result"
    }
   ],
   "source": [
    "# ROC AUC score\n",
    "roc_auc_score(y_test, gs_tvec.predict_proba(X_test)[:, 1])"
   ]
  }
 ],
 "metadata": {
  "kernelspec": {
   "display_name": "Python 3",
   "language": "python",
   "name": "python3"
  },
  "language_info": {
   "codemirror_mode": {
    "name": "ipython",
    "version": 3
   },
   "file_extension": ".py",
   "mimetype": "text/x-python",
   "name": "python",
   "nbconvert_exporter": "python",
   "pygments_lexer": "ipython3",
   "version": "3.8.8"
  }
 },
 "nbformat": 4,
 "nbformat_minor": 5
}
