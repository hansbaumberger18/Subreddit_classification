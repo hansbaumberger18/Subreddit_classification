{
 "cells": [
  {
   "cell_type": "markdown",
   "id": "81e08c4a-3854-4c18-9cc9-c73bdfc0ab73",
   "metadata": {},
   "source": [
    "# EDA and data cleaning\n",
    "\n",
    "#### In this notebook, data will be explored, analyzed and cleaned if necessary."
   ]
  },
  {
   "cell_type": "code",
   "execution_count": 1,
   "id": "f57750f4-68ec-46f4-adf8-8272da91bf1b",
   "metadata": {},
   "outputs": [],
   "source": [
    "# Imports\n",
    "\n",
    "import pandas as pd\n",
    "import matplotlib.pyplot as plt\n",
    "import seaborn as sns\n",
    "\n",
    "from sklearn.feature_extraction.text import CountVectorizer"
   ]
  },
  {
   "cell_type": "code",
   "execution_count": 2,
   "id": "99224598-44b1-43c1-bfe0-5e81d334f9e8",
   "metadata": {},
   "outputs": [
    {
     "name": "stdout",
     "output_type": "stream",
     "text": [
      "Crypto df shape is: (10000, 2)\n",
      "Economics df shape is:(10000, 2)\n"
     ]
    }
   ],
   "source": [
    "# Read in the data\n",
    "\n",
    "crypto = pd.read_csv('../data/sub-crypto.csv')\n",
    "eco = pd.read_csv('../data/sub-economics.csv')\n",
    "\n",
    "print(f'Crypto df shape is: {crypto.shape}')\n",
    "print(f'Economics df shape is:{eco.shape}')"
   ]
  },
  {
   "cell_type": "code",
   "execution_count": 5,
   "id": "78972b30-ce14-4b1c-b128-b6dcfb46571e",
   "metadata": {},
   "outputs": [
    {
     "data": {
      "text/html": [
       "<div>\n",
       "<style scoped>\n",
       "    .dataframe tbody tr th:only-of-type {\n",
       "        vertical-align: middle;\n",
       "    }\n",
       "\n",
       "    .dataframe tbody tr th {\n",
       "        vertical-align: top;\n",
       "    }\n",
       "\n",
       "    .dataframe thead th {\n",
       "        text-align: right;\n",
       "    }\n",
       "</style>\n",
       "<table border=\"1\" class=\"dataframe\">\n",
       "  <thead>\n",
       "    <tr style=\"text-align: right;\">\n",
       "      <th></th>\n",
       "      <th>subreddit</th>\n",
       "      <th>title</th>\n",
       "    </tr>\n",
       "  </thead>\n",
       "  <tbody>\n",
       "    <tr>\n",
       "      <th>0</th>\n",
       "      <td>CryptoMarkets</td>\n",
       "      <td>Polychain and Celo Validator Community Bootstr...</td>\n",
       "    </tr>\n",
       "    <tr>\n",
       "      <th>1</th>\n",
       "      <td>CryptoMarkets</td>\n",
       "      <td>What's the Economics Of Public Goods ? :O</td>\n",
       "    </tr>\n",
       "    <tr>\n",
       "      <th>2</th>\n",
       "      <td>CryptoMarkets</td>\n",
       "      <td>Invesco pulls Bitcoin ETF application and othe...</td>\n",
       "    </tr>\n",
       "    <tr>\n",
       "      <th>3</th>\n",
       "      <td>CryptoMarkets</td>\n",
       "      <td>New York State Watchdog Orders Two Crypto Firm...</td>\n",
       "    </tr>\n",
       "    <tr>\n",
       "      <th>4</th>\n",
       "      <td>CryptoMarkets</td>\n",
       "      <td>New milestone: ProShares Bitcoin ETF goes publ...</td>\n",
       "    </tr>\n",
       "  </tbody>\n",
       "</table>\n",
       "</div>"
      ],
      "text/plain": [
       "       subreddit                                              title\n",
       "0  CryptoMarkets  Polychain and Celo Validator Community Bootstr...\n",
       "1  CryptoMarkets          What's the Economics Of Public Goods ? :O\n",
       "2  CryptoMarkets  Invesco pulls Bitcoin ETF application and othe...\n",
       "3  CryptoMarkets  New York State Watchdog Orders Two Crypto Firm...\n",
       "4  CryptoMarkets  New milestone: ProShares Bitcoin ETF goes publ..."
      ]
     },
     "execution_count": 5,
     "metadata": {},
     "output_type": "execute_result"
    }
   ],
   "source": [
    "crypto.head()"
   ]
  },
  {
   "cell_type": "code",
   "execution_count": 6,
   "id": "b3d93879-3741-47e3-a791-940ea967d230",
   "metadata": {},
   "outputs": [
    {
     "data": {
      "text/html": [
       "<div>\n",
       "<style scoped>\n",
       "    .dataframe tbody tr th:only-of-type {\n",
       "        vertical-align: middle;\n",
       "    }\n",
       "\n",
       "    .dataframe tbody tr th {\n",
       "        vertical-align: top;\n",
       "    }\n",
       "\n",
       "    .dataframe thead th {\n",
       "        text-align: right;\n",
       "    }\n",
       "</style>\n",
       "<table border=\"1\" class=\"dataframe\">\n",
       "  <thead>\n",
       "    <tr style=\"text-align: right;\">\n",
       "      <th></th>\n",
       "      <th>subreddit</th>\n",
       "      <th>title</th>\n",
       "    </tr>\n",
       "  </thead>\n",
       "  <tbody>\n",
       "    <tr>\n",
       "      <th>0</th>\n",
       "      <td>Economics</td>\n",
       "      <td>Taiwan's exports hit new Q1 high</td>\n",
       "    </tr>\n",
       "    <tr>\n",
       "      <th>1</th>\n",
       "      <td>Economics</td>\n",
       "      <td>Blockchain Technology and Google Docs? They’re...</td>\n",
       "    </tr>\n",
       "    <tr>\n",
       "      <th>2</th>\n",
       "      <td>Economics</td>\n",
       "      <td>How America’s Great Economic Challenge Suddenl...</td>\n",
       "    </tr>\n",
       "    <tr>\n",
       "      <th>3</th>\n",
       "      <td>Economics</td>\n",
       "      <td>Massive Bitcoin Mining Could Disrupt China's G...</td>\n",
       "    </tr>\n",
       "    <tr>\n",
       "      <th>4</th>\n",
       "      <td>Economics</td>\n",
       "      <td>China will shoot....</td>\n",
       "    </tr>\n",
       "  </tbody>\n",
       "</table>\n",
       "</div>"
      ],
      "text/plain": [
       "   subreddit                                              title\n",
       "0  Economics                   Taiwan's exports hit new Q1 high\n",
       "1  Economics  Blockchain Technology and Google Docs? They’re...\n",
       "2  Economics  How America’s Great Economic Challenge Suddenl...\n",
       "3  Economics  Massive Bitcoin Mining Could Disrupt China's G...\n",
       "4  Economics                               China will shoot...."
      ]
     },
     "execution_count": 6,
     "metadata": {},
     "output_type": "execute_result"
    }
   ],
   "source": [
    "eco.head()"
   ]
  },
  {
   "cell_type": "markdown",
   "id": "9104d547-84cb-4b57-9748-99724d874b89",
   "metadata": {},
   "source": [
    "### Searching and eliminating nulls"
   ]
  },
  {
   "cell_type": "code",
   "execution_count": 7,
   "id": "5ca42ad4-d6a7-4897-a065-7a647ab9c7b2",
   "metadata": {},
   "outputs": [
    {
     "data": {
      "text/plain": [
       "subreddit    0\n",
       "title        0\n",
       "dtype: int64"
      ]
     },
     "execution_count": 7,
     "metadata": {},
     "output_type": "execute_result"
    }
   ],
   "source": [
    "crypto.isna().sum()"
   ]
  },
  {
   "cell_type": "code",
   "execution_count": 9,
   "id": "c431bb2a-bc32-4203-84dc-a3aaef98bbf6",
   "metadata": {},
   "outputs": [
    {
     "data": {
      "text/plain": [
       "subreddit    0\n",
       "title        0\n",
       "dtype: int64"
      ]
     },
     "execution_count": 9,
     "metadata": {},
     "output_type": "execute_result"
    }
   ],
   "source": [
    "eco.isna().sum()"
   ]
  },
  {
   "cell_type": "markdown",
   "id": "a86b2a25-6122-4351-b44d-3270c1035b11",
   "metadata": {},
   "source": [
    "### Create column with the length of each text"
   ]
  },
  {
   "cell_type": "code",
   "execution_count": 3,
   "id": "4de53724-d3f5-42a7-93e7-05bd1c8dba23",
   "metadata": {},
   "outputs": [
    {
     "data": {
      "text/html": [
       "<div>\n",
       "<style scoped>\n",
       "    .dataframe tbody tr th:only-of-type {\n",
       "        vertical-align: middle;\n",
       "    }\n",
       "\n",
       "    .dataframe tbody tr th {\n",
       "        vertical-align: top;\n",
       "    }\n",
       "\n",
       "    .dataframe thead th {\n",
       "        text-align: right;\n",
       "    }\n",
       "</style>\n",
       "<table border=\"1\" class=\"dataframe\">\n",
       "  <thead>\n",
       "    <tr style=\"text-align: right;\">\n",
       "      <th></th>\n",
       "      <th>subreddit</th>\n",
       "      <th>title</th>\n",
       "      <th>length</th>\n",
       "    </tr>\n",
       "  </thead>\n",
       "  <tbody>\n",
       "    <tr>\n",
       "      <th>0</th>\n",
       "      <td>CryptoMarkets</td>\n",
       "      <td>Polychain and Celo Validator Community Bootstr...</td>\n",
       "      <td>73</td>\n",
       "    </tr>\n",
       "    <tr>\n",
       "      <th>1</th>\n",
       "      <td>CryptoMarkets</td>\n",
       "      <td>What's the Economics Of Public Goods ? :O</td>\n",
       "      <td>41</td>\n",
       "    </tr>\n",
       "    <tr>\n",
       "      <th>2</th>\n",
       "      <td>CryptoMarkets</td>\n",
       "      <td>Invesco pulls Bitcoin ETF application and othe...</td>\n",
       "      <td>64</td>\n",
       "    </tr>\n",
       "    <tr>\n",
       "      <th>3</th>\n",
       "      <td>CryptoMarkets</td>\n",
       "      <td>New York State Watchdog Orders Two Crypto Firm...</td>\n",
       "      <td>296</td>\n",
       "    </tr>\n",
       "    <tr>\n",
       "      <th>4</th>\n",
       "      <td>CryptoMarkets</td>\n",
       "      <td>New milestone: ProShares Bitcoin ETF goes publ...</td>\n",
       "      <td>88</td>\n",
       "    </tr>\n",
       "  </tbody>\n",
       "</table>\n",
       "</div>"
      ],
      "text/plain": [
       "       subreddit                                              title  length\n",
       "0  CryptoMarkets  Polychain and Celo Validator Community Bootstr...      73\n",
       "1  CryptoMarkets          What's the Economics Of Public Goods ? :O      41\n",
       "2  CryptoMarkets  Invesco pulls Bitcoin ETF application and othe...      64\n",
       "3  CryptoMarkets  New York State Watchdog Orders Two Crypto Firm...     296\n",
       "4  CryptoMarkets  New milestone: ProShares Bitcoin ETF goes publ...      88"
      ]
     },
     "execution_count": 3,
     "metadata": {},
     "output_type": "execute_result"
    }
   ],
   "source": [
    "crypto['length'] = crypto['title'].apply(len)\n",
    "\n",
    "eco['length'] = eco['title'].apply(len)\n",
    "\n",
    "# Displaying crypto dataframe created\n",
    "crypto.head()"
   ]
  },
  {
   "cell_type": "markdown",
   "id": "674a81f8-f194-4545-8c7b-a8187472e76b",
   "metadata": {},
   "source": [
    "### Create a column with word_count of each 'title'"
   ]
  },
  {
   "cell_type": "code",
   "execution_count": 4,
   "id": "3dfd2893-ebb3-4f1a-bb26-121cced33613",
   "metadata": {},
   "outputs": [
    {
     "data": {
      "text/html": [
       "<div>\n",
       "<style scoped>\n",
       "    .dataframe tbody tr th:only-of-type {\n",
       "        vertical-align: middle;\n",
       "    }\n",
       "\n",
       "    .dataframe tbody tr th {\n",
       "        vertical-align: top;\n",
       "    }\n",
       "\n",
       "    .dataframe thead th {\n",
       "        text-align: right;\n",
       "    }\n",
       "</style>\n",
       "<table border=\"1\" class=\"dataframe\">\n",
       "  <thead>\n",
       "    <tr style=\"text-align: right;\">\n",
       "      <th></th>\n",
       "      <th>subreddit</th>\n",
       "      <th>title</th>\n",
       "      <th>length</th>\n",
       "      <th>word_count</th>\n",
       "    </tr>\n",
       "  </thead>\n",
       "  <tbody>\n",
       "    <tr>\n",
       "      <th>0</th>\n",
       "      <td>CryptoMarkets</td>\n",
       "      <td>Polychain and Celo Validator Community Bootstr...</td>\n",
       "      <td>73</td>\n",
       "      <td>10</td>\n",
       "    </tr>\n",
       "    <tr>\n",
       "      <th>1</th>\n",
       "      <td>CryptoMarkets</td>\n",
       "      <td>What's the Economics Of Public Goods ? :O</td>\n",
       "      <td>41</td>\n",
       "      <td>8</td>\n",
       "    </tr>\n",
       "    <tr>\n",
       "      <th>2</th>\n",
       "      <td>CryptoMarkets</td>\n",
       "      <td>Invesco pulls Bitcoin ETF application and othe...</td>\n",
       "      <td>64</td>\n",
       "      <td>10</td>\n",
       "    </tr>\n",
       "    <tr>\n",
       "      <th>3</th>\n",
       "      <td>CryptoMarkets</td>\n",
       "      <td>New York State Watchdog Orders Two Crypto Firm...</td>\n",
       "      <td>296</td>\n",
       "      <td>34</td>\n",
       "    </tr>\n",
       "    <tr>\n",
       "      <th>4</th>\n",
       "      <td>CryptoMarkets</td>\n",
       "      <td>New milestone: ProShares Bitcoin ETF goes publ...</td>\n",
       "      <td>88</td>\n",
       "      <td>14</td>\n",
       "    </tr>\n",
       "  </tbody>\n",
       "</table>\n",
       "</div>"
      ],
      "text/plain": [
       "       subreddit                                              title  length  \\\n",
       "0  CryptoMarkets  Polychain and Celo Validator Community Bootstr...      73   \n",
       "1  CryptoMarkets          What's the Economics Of Public Goods ? :O      41   \n",
       "2  CryptoMarkets  Invesco pulls Bitcoin ETF application and othe...      64   \n",
       "3  CryptoMarkets  New York State Watchdog Orders Two Crypto Firm...     296   \n",
       "4  CryptoMarkets  New milestone: ProShares Bitcoin ETF goes publ...      88   \n",
       "\n",
       "   word_count  \n",
       "0          10  \n",
       "1           8  \n",
       "2          10  \n",
       "3          34  \n",
       "4          14  "
      ]
     },
     "execution_count": 4,
     "metadata": {},
     "output_type": "execute_result"
    }
   ],
   "source": [
    "crypto['word_count'] = crypto['title'].apply(lambda x: len(x.split()))\n",
    "\n",
    "eco['word_count'] = eco['title'].apply(lambda x: len(x.split()))\n",
    "\n",
    "# Displaying crypto dataframe\n",
    "crypto.head()"
   ]
  },
  {
   "cell_type": "markdown",
   "id": "73eaedf9-ed2b-452f-b074-8569808ac855",
   "metadata": {},
   "source": [
    "### Describe the data (summary statistics)"
   ]
  },
  {
   "cell_type": "code",
   "execution_count": 13,
   "id": "622a8b7c-7a6a-4eda-99b0-cfa4a77c0c9c",
   "metadata": {},
   "outputs": [
    {
     "data": {
      "text/html": [
       "<div>\n",
       "<style scoped>\n",
       "    .dataframe tbody tr th:only-of-type {\n",
       "        vertical-align: middle;\n",
       "    }\n",
       "\n",
       "    .dataframe tbody tr th {\n",
       "        vertical-align: top;\n",
       "    }\n",
       "\n",
       "    .dataframe thead th {\n",
       "        text-align: right;\n",
       "    }\n",
       "</style>\n",
       "<table border=\"1\" class=\"dataframe\">\n",
       "  <thead>\n",
       "    <tr style=\"text-align: right;\">\n",
       "      <th></th>\n",
       "      <th>length</th>\n",
       "      <th>word_count</th>\n",
       "    </tr>\n",
       "  </thead>\n",
       "  <tbody>\n",
       "    <tr>\n",
       "      <th>count</th>\n",
       "      <td>10000.000000</td>\n",
       "      <td>10000.000000</td>\n",
       "    </tr>\n",
       "    <tr>\n",
       "      <th>mean</th>\n",
       "      <td>88.738700</td>\n",
       "      <td>13.103900</td>\n",
       "    </tr>\n",
       "    <tr>\n",
       "      <th>std</th>\n",
       "      <td>82.559387</td>\n",
       "      <td>10.834447</td>\n",
       "    </tr>\n",
       "    <tr>\n",
       "      <th>min</th>\n",
       "      <td>1.000000</td>\n",
       "      <td>1.000000</td>\n",
       "    </tr>\n",
       "    <tr>\n",
       "      <th>25%</th>\n",
       "      <td>34.000000</td>\n",
       "      <td>5.000000</td>\n",
       "    </tr>\n",
       "    <tr>\n",
       "      <th>50%</th>\n",
       "      <td>60.000000</td>\n",
       "      <td>10.000000</td>\n",
       "    </tr>\n",
       "    <tr>\n",
       "      <th>75%</th>\n",
       "      <td>104.000000</td>\n",
       "      <td>18.000000</td>\n",
       "    </tr>\n",
       "    <tr>\n",
       "      <th>max</th>\n",
       "      <td>312.000000</td>\n",
       "      <td>67.000000</td>\n",
       "    </tr>\n",
       "  </tbody>\n",
       "</table>\n",
       "</div>"
      ],
      "text/plain": [
       "             length    word_count\n",
       "count  10000.000000  10000.000000\n",
       "mean      88.738700     13.103900\n",
       "std       82.559387     10.834447\n",
       "min        1.000000      1.000000\n",
       "25%       34.000000      5.000000\n",
       "50%       60.000000     10.000000\n",
       "75%      104.000000     18.000000\n",
       "max      312.000000     67.000000"
      ]
     },
     "execution_count": 13,
     "metadata": {},
     "output_type": "execute_result"
    }
   ],
   "source": [
    "crypto.describe()"
   ]
  },
  {
   "cell_type": "code",
   "execution_count": 14,
   "id": "251f9512-a470-4c07-90e8-e5e688be6e47",
   "metadata": {},
   "outputs": [
    {
     "data": {
      "text/html": [
       "<div>\n",
       "<style scoped>\n",
       "    .dataframe tbody tr th:only-of-type {\n",
       "        vertical-align: middle;\n",
       "    }\n",
       "\n",
       "    .dataframe tbody tr th {\n",
       "        vertical-align: top;\n",
       "    }\n",
       "\n",
       "    .dataframe thead th {\n",
       "        text-align: right;\n",
       "    }\n",
       "</style>\n",
       "<table border=\"1\" class=\"dataframe\">\n",
       "  <thead>\n",
       "    <tr style=\"text-align: right;\">\n",
       "      <th></th>\n",
       "      <th>length</th>\n",
       "      <th>word_count</th>\n",
       "    </tr>\n",
       "  </thead>\n",
       "  <tbody>\n",
       "    <tr>\n",
       "      <th>count</th>\n",
       "      <td>10000.000000</td>\n",
       "      <td>10000.000000</td>\n",
       "    </tr>\n",
       "    <tr>\n",
       "      <th>mean</th>\n",
       "      <td>79.000300</td>\n",
       "      <td>12.809600</td>\n",
       "    </tr>\n",
       "    <tr>\n",
       "      <th>std</th>\n",
       "      <td>50.430499</td>\n",
       "      <td>8.441841</td>\n",
       "    </tr>\n",
       "    <tr>\n",
       "      <th>min</th>\n",
       "      <td>1.000000</td>\n",
       "      <td>1.000000</td>\n",
       "    </tr>\n",
       "    <tr>\n",
       "      <th>25%</th>\n",
       "      <td>50.000000</td>\n",
       "      <td>8.000000</td>\n",
       "    </tr>\n",
       "    <tr>\n",
       "      <th>50%</th>\n",
       "      <td>67.000000</td>\n",
       "      <td>11.000000</td>\n",
       "    </tr>\n",
       "    <tr>\n",
       "      <th>75%</th>\n",
       "      <td>91.000000</td>\n",
       "      <td>15.000000</td>\n",
       "    </tr>\n",
       "    <tr>\n",
       "      <th>max</th>\n",
       "      <td>307.000000</td>\n",
       "      <td>63.000000</td>\n",
       "    </tr>\n",
       "  </tbody>\n",
       "</table>\n",
       "</div>"
      ],
      "text/plain": [
       "             length    word_count\n",
       "count  10000.000000  10000.000000\n",
       "mean      79.000300     12.809600\n",
       "std       50.430499      8.441841\n",
       "min        1.000000      1.000000\n",
       "25%       50.000000      8.000000\n",
       "50%       67.000000     11.000000\n",
       "75%       91.000000     15.000000\n",
       "max      307.000000     63.000000"
      ]
     },
     "execution_count": 14,
     "metadata": {},
     "output_type": "execute_result"
    }
   ],
   "source": [
    "eco.describe()"
   ]
  },
  {
   "cell_type": "markdown",
   "id": "77fc9ecb-26cf-4045-9fd7-51604d49d48a",
   "metadata": {},
   "source": [
    "### Plotting the word counts for each subreddit"
   ]
  },
  {
   "cell_type": "code",
   "execution_count": 16,
   "id": "66d14fba-1d29-431c-8777-07756d30c08f",
   "metadata": {},
   "outputs": [
    {
     "data": {
      "image/png": "[encoded data removed]",
      "text/plain": [
       "<Figure size 1152x432 with 2 Axes>"
      ]
     },
     "metadata": {
      "needs_background": "light"
     },
     "output_type": "display_data"
    }
   ],
   "source": [
    "fig, ax = plt.subplots(1, 2, figsize=(16,6))\n",
    "sns.histplot(crypto['length'], ax=ax[0])\n",
    "sns.histplot(crypto['word_count'], ax=ax[1])\n",
    "ax[0].set(xlabel=\"Length\", ylabel='Count', title='Length Histogram')\n",
    "ax[1].set(xlabel=\"Word Count\", ylabel='Count', title='Word Count Histogram')\n",
    "\n",
    "fig.suptitle('Character & Word Count Distribution for CryptoMarkets subreddit', fontsize=20);"
   ]
  },
  {
   "cell_type": "code",
   "execution_count": 17,
   "id": "f627ceed-4cd6-4b57-ad6e-5fc54f9f1280",
   "metadata": {},
   "outputs": [
    {
     "data": {
      "image/png": "[encoded data removed]",
      "text/plain": [
       "<Figure size 1152x432 with 2 Axes>"
      ]
     },
     "metadata": {
      "needs_background": "light"
     },
     "output_type": "display_data"
    }
   ],
   "source": [
    "fig, ax = plt.subplots(1, 2, figsize=(16,6))\n",
    "sns.histplot(eco['length'], ax=ax[0])\n",
    "sns.histplot(eco['word_count'], ax=ax[1])\n",
    "ax[0].set(xlabel=\"Length\", ylabel='Count', title='Length Histogram')\n",
    "ax[1].set(xlabel=\"Word Count\", ylabel='Count', title='Word Count Histogram')\n",
    "\n",
    "fig.suptitle('Character & Word Count Distribution for Economics subreddit', fontsize=20);"
   ]
  },
  {
   "cell_type": "markdown",
   "id": "cf8089c6-0c68-42f9-9d1e-7fcd474e073d",
   "metadata": {},
   "source": [
    "### Vectorize the data for each subreddit data frame"
   ]
  },
  {
   "cell_type": "code",
   "execution_count": 5,
   "id": "5ba57f64-26ad-4c4a-90cd-38008bc099a0",
   "metadata": {},
   "outputs": [
    {
     "data": {
      "text/html": [
       "<div>\n",
       "<style scoped>\n",
       "    .dataframe tbody tr th:only-of-type {\n",
       "        vertical-align: middle;\n",
       "    }\n",
       "\n",
       "    .dataframe tbody tr th {\n",
       "        vertical-align: top;\n",
       "    }\n",
       "\n",
       "    .dataframe thead th {\n",
       "        text-align: right;\n",
       "    }\n",
       "</style>\n",
       "<table border=\"1\" class=\"dataframe\">\n",
       "  <thead>\n",
       "    <tr style=\"text-align: right;\">\n",
       "      <th></th>\n",
       "      <th>00</th>\n",
       "      <th>000</th>\n",
       "      <th>00000000000000</th>\n",
       "      <th>000000001</th>\n",
       "      <th>00000001busd</th>\n",
       "      <th>0000009</th>\n",
       "      <th>0000016</th>\n",
       "      <th>000001755</th>\n",
       "      <th>00001</th>\n",
       "      <th>00001207</th>\n",
       "      <th>...</th>\n",
       "      <th>𝐈𝐧𝐭𝐫𝐨𝐝𝐮𝐜𝐢𝐧𝐠</th>\n",
       "      <th>𝐑𝐞𝐜𝐫𝐮𝐢𝐭𝐦𝐞𝐧𝐭</th>\n",
       "      <th>𝐒𝐞𝐞𝐤𝐫</th>\n",
       "      <th>𝐓𝐨𝐤𝐞𝐧</th>\n",
       "      <th>𝐢𝐧</th>\n",
       "      <th>𝗔𝗡𝗡𝗢𝗨𝗡𝗖𝗘𝗠𝗘𝗡𝗧</th>\n",
       "      <th>𝗔𝗧𝗧𝗘𝗡𝗧𝗜𝗢𝗡</th>\n",
       "      <th>𝗜𝗗𝗢</th>\n",
       "      <th>𝗥𝗼𝗯𝗶𝗻𝗛𝗼𝗼𝗱𝗲𝗿𝘀</th>\n",
       "      <th>𝗪𝗢𝗡𝗗𝗘𝗥𝗛𝗘𝗥𝗢</th>\n",
       "    </tr>\n",
       "  </thead>\n",
       "  <tbody>\n",
       "    <tr>\n",
       "      <th>0</th>\n",
       "      <td>0</td>\n",
       "      <td>0</td>\n",
       "      <td>0</td>\n",
       "      <td>0</td>\n",
       "      <td>0</td>\n",
       "      <td>0</td>\n",
       "      <td>0</td>\n",
       "      <td>0</td>\n",
       "      <td>0</td>\n",
       "      <td>0</td>\n",
       "      <td>...</td>\n",
       "      <td>0</td>\n",
       "      <td>0</td>\n",
       "      <td>0</td>\n",
       "      <td>0</td>\n",
       "      <td>0</td>\n",
       "      <td>0</td>\n",
       "      <td>0</td>\n",
       "      <td>0</td>\n",
       "      <td>0</td>\n",
       "      <td>0</td>\n",
       "    </tr>\n",
       "    <tr>\n",
       "      <th>1</th>\n",
       "      <td>0</td>\n",
       "      <td>0</td>\n",
       "      <td>0</td>\n",
       "      <td>0</td>\n",
       "      <td>0</td>\n",
       "      <td>0</td>\n",
       "      <td>0</td>\n",
       "      <td>0</td>\n",
       "      <td>0</td>\n",
       "      <td>0</td>\n",
       "      <td>...</td>\n",
       "      <td>0</td>\n",
       "      <td>0</td>\n",
       "      <td>0</td>\n",
       "      <td>0</td>\n",
       "      <td>0</td>\n",
       "      <td>0</td>\n",
       "      <td>0</td>\n",
       "      <td>0</td>\n",
       "      <td>0</td>\n",
       "      <td>0</td>\n",
       "    </tr>\n",
       "    <tr>\n",
       "      <th>2</th>\n",
       "      <td>0</td>\n",
       "      <td>0</td>\n",
       "      <td>0</td>\n",
       "      <td>0</td>\n",
       "      <td>0</td>\n",
       "      <td>0</td>\n",
       "      <td>0</td>\n",
       "      <td>0</td>\n",
       "      <td>0</td>\n",
       "      <td>0</td>\n",
       "      <td>...</td>\n",
       "      <td>0</td>\n",
       "      <td>0</td>\n",
       "      <td>0</td>\n",
       "      <td>0</td>\n",
       "      <td>0</td>\n",
       "      <td>0</td>\n",
       "      <td>0</td>\n",
       "      <td>0</td>\n",
       "      <td>0</td>\n",
       "      <td>0</td>\n",
       "    </tr>\n",
       "    <tr>\n",
       "      <th>3</th>\n",
       "      <td>0</td>\n",
       "      <td>0</td>\n",
       "      <td>0</td>\n",
       "      <td>0</td>\n",
       "      <td>0</td>\n",
       "      <td>0</td>\n",
       "      <td>0</td>\n",
       "      <td>0</td>\n",
       "      <td>0</td>\n",
       "      <td>0</td>\n",
       "      <td>...</td>\n",
       "      <td>0</td>\n",
       "      <td>0</td>\n",
       "      <td>0</td>\n",
       "      <td>0</td>\n",
       "      <td>0</td>\n",
       "      <td>0</td>\n",
       "      <td>0</td>\n",
       "      <td>0</td>\n",
       "      <td>0</td>\n",
       "      <td>0</td>\n",
       "    </tr>\n",
       "    <tr>\n",
       "      <th>4</th>\n",
       "      <td>0</td>\n",
       "      <td>0</td>\n",
       "      <td>0</td>\n",
       "      <td>0</td>\n",
       "      <td>0</td>\n",
       "      <td>0</td>\n",
       "      <td>0</td>\n",
       "      <td>0</td>\n",
       "      <td>0</td>\n",
       "      <td>0</td>\n",
       "      <td>...</td>\n",
       "      <td>0</td>\n",
       "      <td>0</td>\n",
       "      <td>0</td>\n",
       "      <td>0</td>\n",
       "      <td>0</td>\n",
       "      <td>0</td>\n",
       "      <td>0</td>\n",
       "      <td>0</td>\n",
       "      <td>0</td>\n",
       "      <td>0</td>\n",
       "    </tr>\n",
       "  </tbody>\n",
       "</table>\n",
       "<p>5 rows × 12684 columns</p>\n",
       "</div>"
      ],
      "text/plain": [
       "   00  000  00000000000000  000000001  00000001busd  0000009  0000016  \\\n",
       "0   0    0               0          0             0        0        0   \n",
       "1   0    0               0          0             0        0        0   \n",
       "2   0    0               0          0             0        0        0   \n",
       "3   0    0               0          0             0        0        0   \n",
       "4   0    0               0          0             0        0        0   \n",
       "\n",
       "   000001755  00001  00001207  ...  𝐈𝐧𝐭𝐫𝐨𝐝𝐮𝐜𝐢𝐧𝐠  𝐑𝐞𝐜𝐫𝐮𝐢𝐭𝐦𝐞𝐧𝐭  𝐒𝐞𝐞𝐤𝐫  𝐓𝐨𝐤𝐞𝐧  \\\n",
       "0          0      0         0  ...            0            0      0      0   \n",
       "1          0      0         0  ...            0            0      0      0   \n",
       "2          0      0         0  ...            0            0      0      0   \n",
       "3          0      0         0  ...            0            0      0      0   \n",
       "4          0      0         0  ...            0            0      0      0   \n",
       "\n",
       "   𝐢𝐧  𝗔𝗡𝗡𝗢𝗨𝗡𝗖𝗘𝗠𝗘𝗡𝗧  𝗔𝗧𝗧𝗘𝗡𝗧𝗜𝗢𝗡  𝗜𝗗𝗢  𝗥𝗼𝗯𝗶𝗻𝗛𝗼𝗼𝗱𝗲𝗿𝘀  𝗪𝗢𝗡𝗗𝗘𝗥𝗛𝗘𝗥𝗢  \n",
       "0   0             0          0    0             0           0  \n",
       "1   0             0          0    0             0           0  \n",
       "2   0             0          0    0             0           0  \n",
       "3   0             0          0    0             0           0  \n",
       "4   0             0          0    0             0           0  \n",
       "\n",
       "[5 rows x 12684 columns]"
      ]
     },
     "execution_count": 5,
     "metadata": {},
     "output_type": "execute_result"
    }
   ],
   "source": [
    "#First, crypto\n",
    "\n",
    "cv = CountVectorizer()\n",
    "crypto_vect = cv.fit_transform(crypto['title'])\n",
    "crypto_vect_df = pd.DataFrame(crypto_vect.todense(), columns=cv.get_feature_names())\n",
    "crypto_vect_df.head()"
   ]
  },
  {
   "cell_type": "code",
   "execution_count": 6,
   "id": "f122d32f-e60a-432e-be62-48e22c82620c",
   "metadata": {},
   "outputs": [
    {
     "data": {
      "text/html": [
       "<div>\n",
       "<style scoped>\n",
       "    .dataframe tbody tr th:only-of-type {\n",
       "        vertical-align: middle;\n",
       "    }\n",
       "\n",
       "    .dataframe tbody tr th {\n",
       "        vertical-align: top;\n",
       "    }\n",
       "\n",
       "    .dataframe thead th {\n",
       "        text-align: right;\n",
       "    }\n",
       "</style>\n",
       "<table border=\"1\" class=\"dataframe\">\n",
       "  <thead>\n",
       "    <tr style=\"text-align: right;\">\n",
       "      <th></th>\n",
       "      <th>00</th>\n",
       "      <th>000</th>\n",
       "      <th>001</th>\n",
       "      <th>003</th>\n",
       "      <th>005</th>\n",
       "      <th>01</th>\n",
       "      <th>02</th>\n",
       "      <th>0291</th>\n",
       "      <th>03</th>\n",
       "      <th>0311</th>\n",
       "      <th>...</th>\n",
       "      <th>𝗻𝘂𝗺𝗲𝗿𝗼𝘂𝘀</th>\n",
       "      <th>𝗿𝗲𝗴𝘂𝗹𝗮𝘁𝗼𝗿𝘀</th>\n",
       "      <th>𝗿𝗲𝗽𝗼𝗿𝘁𝘀</th>\n",
       "      <th>𝘀𝗶𝗻𝗰𝗲</th>\n",
       "      <th>𝘁𝗵𝗮𝘁</th>\n",
       "      <th>𝘁𝗵𝗲</th>\n",
       "      <th>𝘄𝗶𝘁𝗵</th>\n",
       "      <th>𝘼𝙉𝙉𝙊𝙐𝙉𝘾𝙀𝙈𝙀𝙉𝙏</th>\n",
       "      <th>𝙃𝙐𝙂𝙀</th>\n",
       "      <th>𝟮𝟬𝟭𝟴</th>\n",
       "    </tr>\n",
       "  </thead>\n",
       "  <tbody>\n",
       "    <tr>\n",
       "      <th>0</th>\n",
       "      <td>0</td>\n",
       "      <td>0</td>\n",
       "      <td>0</td>\n",
       "      <td>0</td>\n",
       "      <td>0</td>\n",
       "      <td>0</td>\n",
       "      <td>0</td>\n",
       "      <td>0</td>\n",
       "      <td>0</td>\n",
       "      <td>0</td>\n",
       "      <td>...</td>\n",
       "      <td>0</td>\n",
       "      <td>0</td>\n",
       "      <td>0</td>\n",
       "      <td>0</td>\n",
       "      <td>0</td>\n",
       "      <td>0</td>\n",
       "      <td>0</td>\n",
       "      <td>0</td>\n",
       "      <td>0</td>\n",
       "      <td>0</td>\n",
       "    </tr>\n",
       "    <tr>\n",
       "      <th>1</th>\n",
       "      <td>0</td>\n",
       "      <td>0</td>\n",
       "      <td>0</td>\n",
       "      <td>0</td>\n",
       "      <td>0</td>\n",
       "      <td>0</td>\n",
       "      <td>0</td>\n",
       "      <td>0</td>\n",
       "      <td>0</td>\n",
       "      <td>0</td>\n",
       "      <td>...</td>\n",
       "      <td>0</td>\n",
       "      <td>0</td>\n",
       "      <td>0</td>\n",
       "      <td>0</td>\n",
       "      <td>0</td>\n",
       "      <td>0</td>\n",
       "      <td>0</td>\n",
       "      <td>0</td>\n",
       "      <td>0</td>\n",
       "      <td>0</td>\n",
       "    </tr>\n",
       "    <tr>\n",
       "      <th>2</th>\n",
       "      <td>0</td>\n",
       "      <td>0</td>\n",
       "      <td>0</td>\n",
       "      <td>0</td>\n",
       "      <td>0</td>\n",
       "      <td>0</td>\n",
       "      <td>0</td>\n",
       "      <td>0</td>\n",
       "      <td>0</td>\n",
       "      <td>0</td>\n",
       "      <td>...</td>\n",
       "      <td>0</td>\n",
       "      <td>0</td>\n",
       "      <td>0</td>\n",
       "      <td>0</td>\n",
       "      <td>0</td>\n",
       "      <td>0</td>\n",
       "      <td>0</td>\n",
       "      <td>0</td>\n",
       "      <td>0</td>\n",
       "      <td>0</td>\n",
       "    </tr>\n",
       "    <tr>\n",
       "      <th>3</th>\n",
       "      <td>0</td>\n",
       "      <td>0</td>\n",
       "      <td>0</td>\n",
       "      <td>0</td>\n",
       "      <td>0</td>\n",
       "      <td>0</td>\n",
       "      <td>0</td>\n",
       "      <td>0</td>\n",
       "      <td>0</td>\n",
       "      <td>0</td>\n",
       "      <td>...</td>\n",
       "      <td>0</td>\n",
       "      <td>0</td>\n",
       "      <td>0</td>\n",
       "      <td>0</td>\n",
       "      <td>0</td>\n",
       "      <td>0</td>\n",
       "      <td>0</td>\n",
       "      <td>0</td>\n",
       "      <td>0</td>\n",
       "      <td>0</td>\n",
       "    </tr>\n",
       "    <tr>\n",
       "      <th>4</th>\n",
       "      <td>0</td>\n",
       "      <td>0</td>\n",
       "      <td>0</td>\n",
       "      <td>0</td>\n",
       "      <td>0</td>\n",
       "      <td>0</td>\n",
       "      <td>0</td>\n",
       "      <td>0</td>\n",
       "      <td>0</td>\n",
       "      <td>0</td>\n",
       "      <td>...</td>\n",
       "      <td>0</td>\n",
       "      <td>0</td>\n",
       "      <td>0</td>\n",
       "      <td>0</td>\n",
       "      <td>0</td>\n",
       "      <td>0</td>\n",
       "      <td>0</td>\n",
       "      <td>0</td>\n",
       "      <td>0</td>\n",
       "      <td>0</td>\n",
       "    </tr>\n",
       "  </tbody>\n",
       "</table>\n",
       "<p>5 rows × 13947 columns</p>\n",
       "</div>"
      ],
      "text/plain": [
       "   00  000  001  003  005  01  02  0291  03  0311  ...  𝗻𝘂𝗺𝗲𝗿𝗼𝘂𝘀  𝗿𝗲𝗴𝘂𝗹𝗮𝘁𝗼𝗿𝘀  \\\n",
       "0   0    0    0    0    0   0   0     0   0     0  ...         0           0   \n",
       "1   0    0    0    0    0   0   0     0   0     0  ...         0           0   \n",
       "2   0    0    0    0    0   0   0     0   0     0  ...         0           0   \n",
       "3   0    0    0    0    0   0   0     0   0     0  ...         0           0   \n",
       "4   0    0    0    0    0   0   0     0   0     0  ...         0           0   \n",
       "\n",
       "   𝗿𝗲𝗽𝗼𝗿𝘁𝘀  𝘀𝗶𝗻𝗰𝗲  𝘁𝗵𝗮𝘁  𝘁𝗵𝗲  𝘄𝗶𝘁𝗵  𝘼𝙉𝙉𝙊𝙐𝙉𝘾𝙀𝙈𝙀𝙉𝙏  𝙃𝙐𝙂𝙀  𝟮𝟬𝟭𝟴  \n",
       "0        0      0     0    0     0             0     0     0  \n",
       "1        0      0     0    0     0             0     0     0  \n",
       "2        0      0     0    0     0             0     0     0  \n",
       "3        0      0     0    0     0             0     0     0  \n",
       "4        0      0     0    0     0             0     0     0  \n",
       "\n",
       "[5 rows x 13947 columns]"
      ]
     },
     "execution_count": 6,
     "metadata": {},
     "output_type": "execute_result"
    }
   ],
   "source": [
    "# Then, eco\n",
    "\n",
    "cv = CountVectorizer()\n",
    "eco_vect = cv.fit_transform(eco['title'])\n",
    "eco_vect_df = pd.DataFrame(eco_vect.todense(), columns=cv.get_feature_names())\n",
    "eco_vect_df.head()"
   ]
  },
  {
   "cell_type": "markdown",
   "id": "138dec5a-b2c9-457a-88c4-2b608fda6e9d",
   "metadata": {},
   "source": [
    "### Plot the most frequently ocurring words by subreddit"
   ]
  },
  {
   "cell_type": "code",
   "execution_count": 21,
   "id": "e079a633-72dc-4e18-98b9-3312203c49c0",
   "metadata": {},
   "outputs": [
    {
     "data": {
      "image/png": "[encoded data removed]",
      "text/plain": [
       "<Figure size 1152x432 with 2 Axes>"
      ]
     },
     "metadata": {
      "needs_background": "light"
     },
     "output_type": "display_data"
    }
   ],
   "source": [
    "fig, ax = plt.subplots(1, 2, figsize=(16,6))\n",
    "crypto_vect_df.sum().sort_values(ascending=False).head(10).plot(kind='barh', ax=ax[0], fontsize=14)\n",
    "eco_vect_df.sum().sort_values(ascending=False).head(10).plot(kind='barh', ax=ax[1], fontsize=14)\n",
    "\n",
    "ax[0].set_title('CryptoMarkets', fontsize=18)\n",
    "ax[1].set_title('Economics', fontsize=18)\n",
    "ax[0].invert_yaxis()\n",
    "ax[1].invert_yaxis()\n",
    "\n",
    "fig.suptitle('Top 10 Words', fontsize=24)\n",
    "fig.text(0.5, 0.04, 'Number of Occurances', \n",
    "         ha='center', fontsize=18);"
   ]
  },
  {
   "cell_type": "markdown",
   "id": "0b6c6971-d13a-4f9c-b400-0e0836c077e5",
   "metadata": {},
   "source": [
    "### Vectorize and plot again but using 'english' stopwords"
   ]
  },
  {
   "cell_type": "code",
   "execution_count": 23,
   "id": "18706c8c-f7cd-4ff9-9c39-79bf2904a10e",
   "metadata": {},
   "outputs": [],
   "source": [
    "cv = CountVectorizer(stop_words='english')\n",
    "crypto_vect = cv.fit_transform(crypto['title'])\n",
    "crypto_vect_df = pd.DataFrame(crypto_vect.todense(), columns=cv.get_feature_names())\n",
    "\n",
    "eco_vect = cv.fit_transform(eco['title'])\n",
    "eco_vect_df = pd.DataFrame(eco_vect.todense(), columns=cv.get_feature_names())"
   ]
  },
  {
   "cell_type": "code",
   "execution_count": 24,
   "id": "3832648e-88f2-4514-803f-7166824d8a8a",
   "metadata": {},
   "outputs": [
    {
     "data": {
      "image/png": "[encoded data removed]",
      "text/plain": [
       "<Figure size 1152x432 with 2 Axes>"
      ]
     },
     "metadata": {
      "needs_background": "light"
     },
     "output_type": "display_data"
    }
   ],
   "source": [
    "fig, ax = plt.subplots(1, 2, figsize=(16,6))\n",
    "crypto_vect_df.sum().sort_values(ascending=False).head(10).plot(kind='barh', ax=ax[0], fontsize=14)\n",
    "eco_vect_df.sum().sort_values(ascending=False).head(10).plot(kind='barh', ax=ax[1], fontsize=14)\n",
    "\n",
    "ax[0].set_title('CryptoMarkets', fontsize=18)\n",
    "ax[1].set_title('Economics', fontsize=18)\n",
    "ax[0].invert_yaxis()\n",
    "ax[1].invert_yaxis()\n",
    "\n",
    "fig.suptitle('Top 10 Words', fontsize=24)\n",
    "fig.text(0.5, 0.04, 'Number of Occurances', \n",
    "         ha='center', fontsize=18);"
   ]
  },
  {
   "cell_type": "markdown",
   "id": "5e57b267-d5e9-4bcf-ad3d-5101ad35e502",
   "metadata": {},
   "source": [
    "### Vectorize and plot but using 'english' stopwords and bigrams"
   ]
  },
  {
   "cell_type": "code",
   "execution_count": 7,
   "id": "566e7b55-dc12-48a2-8df8-8549f8ad78fb",
   "metadata": {},
   "outputs": [],
   "source": [
    "cv = CountVectorizer(stop_words='english', ngram_range=(2,2))\n",
    "crypto_vect = cv.fit_transform(crypto['title'])\n",
    "crypto_vect_df = pd.DataFrame(crypto_vect.todense(), columns=cv.get_feature_names())\n",
    "\n",
    "eco_vect = cv.fit_transform(eco['title'])\n",
    "eco_vect_df = pd.DataFrame(eco_vect.todense(), columns=cv.get_feature_names())"
   ]
  },
  {
   "cell_type": "code",
   "execution_count": 17,
   "id": "d95accc4-0fed-42cb-81ab-3cea6c098507",
   "metadata": {},
   "outputs": [
    {
     "data": {
      "image/png": "[encoded data removed]",
      "text/plain": [
       "<Figure size 1152x576 with 2 Axes>"
      ]
     },
     "metadata": {
      "needs_background": "light"
     },
     "output_type": "display_data"
    }
   ],
   "source": [
    "fig, ax = plt.subplots(1, 2, figsize=(16,8))\n",
    "fig.tight_layout(pad=12.0)\n",
    "crypto_vect_df.sum().sort_values(ascending=False).head(10).plot(kind='barh', ax=ax[0], fontsize=14)\n",
    "eco_vect_df.sum().sort_values(ascending=False).head(10).plot(kind='barh', ax=ax[1], fontsize=14)\n",
    "\n",
    "ax[0].set_title('CryptoMarkets', fontsize=18)\n",
    "ax[1].set_title('Economics', fontsize=18)\n",
    "ax[0].invert_yaxis()\n",
    "ax[1].invert_yaxis()\n",
    "\n",
    "fig.suptitle('Top 10 Words', fontsize=24)\n",
    "fig.text(0.5, 0.04, 'Number of Occurances', \n",
    "         ha='center', fontsize=18);"
   ]
  }
 ],
 "metadata": {
  "kernelspec": {
   "display_name": "Python 3",
   "language": "python",
   "name": "python3"
  },
  "language_info": {
   "codemirror_mode": {
    "name": "ipython",
    "version": 3
   },
   "file_extension": ".py",
   "mimetype": "text/x-python",
   "name": "python",
   "nbconvert_exporter": "python",
   "pygments_lexer": "ipython3",
   "version": "3.8.8"
  }
 },
 "nbformat": 4,
 "nbformat_minor": 5
}
